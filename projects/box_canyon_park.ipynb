{
 "cells": [
  {
   "cell_type": "markdown",
   "metadata": {},
   "source": [
    "# Box Canyon Park \n",
    "\n",
    "https://www.google.com/maps/place/Box+Canyon+Park/@33.8857385,-117.7309815,910m/data=!3m2!1e3!4b1!4m6!3m5!1s0x80dcce2292288e59:0xc1684d99397ec327!8m2!3d33.8857385!4d-117.7284066!16s%2Fg%2F1tm8kwym?entry=ttu"
   ]
  },
  {
   "cell_type": "markdown",
   "metadata": {},
   "source": [
    "## 1. Organize data\n",
    "\n",
    "Create a folder under `semantic_SfM/data` and organize your data following the structures below. \n",
    "\n",
    "Using SfM products from Agisoft:\n",
    "```\n",
    "semantic_SfM/data\n",
    "    ├── box_canyon_park\n",
    "        ├── DJI_photos\n",
    "        │       ├── DJI_0000.JPG\n",
    "        │       ├── DJI_0001.JPG\n",
    "        │       ├── ...\n",
    "        │       └── DJI_0100.JPG\n",
    "        ├── SfM_products\n",
    "        │       ├── agisoft_cameras.xml\n",
    "        │       ├── model.jpg\n",
    "        │       ├── model.obj\n",
    "        │       ├── model.mtl\n",
    "        │       └── agisoft_model.las   \n",
    "        ├── segmentations\n",
    "        └── associations\n",
    "\n",
    "```"
   ]
  },
  {
   "cell_type": "code",
   "execution_count": 1,
   "metadata": {},
   "outputs": [],
   "source": [
    "import os\n",
    "\n",
    "scene_dir = '../data/box_canyon_park'\n",
    "pointcloud_path = os.path.join(scene_dir, 'SfM_products', 'model.las')\n",
    "associations_folder_path = os.path.join(scene_dir, 'associations')\n",
    "segmentations_folder_path = os.path.join(scene_dir, 'segmentations')\n",
    "photos_folder_path = os.path.join(scene_dir, 'DJI_photos')\n",
    "camera_path = os.path.join(scene_dir, 'SfM_products', 'agisoft_cameras.xml')\n",
    "mesh_path = os.path.join(scene_dir, 'SfM_products', 'model.obj')"
   ]
  },
  {
   "cell_type": "markdown",
   "metadata": {},
   "source": [
    "## 2. Create 2D Segmentation using SAM"
   ]
  },
  {
   "cell_type": "code",
   "execution_count": 2,
   "metadata": {},
   "outputs": [],
   "source": [
    "from ssfm.image_segmentation import ImageSegmentation\n",
    "import os"
   ]
  },
  {
   "cell_type": "code",
   "execution_count": 4,
   "metadata": {},
   "outputs": [],
   "source": [
    "sam_params = {}\n",
    "sam_params['model_name'] = 'sam2'\n",
    "sam_params['model_path'] = '../semantic_SfM/sam2/sam2.1_hiera_large.pt'\n",
    "sam_params['device'] = 'cuda:0'\n",
    "sam_params['points_per_side'] = 32\n",
    "sam_params['points_per_batch'] = 128\n",
    "sam_params['pred_iou_thresh'] = 0.6\n",
    "sam_params['stability_score_offset'] = 0.5\n",
    "sam_params['box_nms_thresh'] = 0.6\n",
    "sam_params['use_m2m'] = True\n",
    "\n",
    "\n",
    "image_path_list = [os.path.join(photos_folder_path, image) for image in os.listdir(photos_folder_path)]\n",
    "\n",
    "# sort images based on the values of keyimages in file names\n",
    "image_path_list = sorted(image_path_list, key=lambda x: int(x.split('/')[-1].split('.')[0].split('_')[-1]))\n",
    "\n",
    "image_list = [image for image in os.listdir(photos_folder_path)]\n",
    "\n",
    "# sort images based on the values of keyimages in file names\n",
    "image_list = sorted(image_list, key=lambda x: int(x.split('/')[-1].split('.')[0].split('_')[-1]))"
   ]
  },
  {
   "cell_type": "code",
   "execution_count": null,
   "metadata": {},
   "outputs": [],
   "source": [
    "run_segmentation = False\n",
    "\n",
    "if run_segmentation:\n",
    "    image_segmentor = ImageSegmentation(sam_params)   \n",
    "    image_segmentor.set_distortion_correction(camera_path)\n",
    "    image_segmentor.batch_predict(image_path_list, segmentations_folder_path, save_overlap=True, skip_existing=False)"
   ]
  },
  {
   "cell_type": "markdown",
   "metadata": {},
   "source": [
    "## 3. Create projection associations"
   ]
  },
  {
   "cell_type": "code",
   "execution_count": 5,
   "metadata": {},
   "outputs": [],
   "source": [
    "from ssfm.probabilistic_projection import *\n",
    "import time"
   ]
  },
  {
   "cell_type": "code",
   "execution_count": 6,
   "metadata": {},
   "outputs": [],
   "source": [
    "pointcloud_projector = PointcloudProjection(depth_filtering_threshold=0.01)\n",
    "#pointcloud_projector = PointcloudProjection()"
   ]
  },
  {
   "cell_type": "code",
   "execution_count": 7,
   "metadata": {},
   "outputs": [],
   "source": [
    "pointcloud_projector.read_camera_parameters(camera_path)\n",
    "pointcloud_projector.read_mesh(mesh_path)\n",
    "pointcloud_projector.read_pointcloud(pointcloud_path)"
   ]
  },
  {
   "cell_type": "code",
   "execution_count": 8,
   "metadata": {},
   "outputs": [
    {
     "name": "stderr",
     "output_type": "stream",
     "text": [
      "Processing frames: 100%|██████████| 129/129 [04:46<00:00,  2.22s/it]\n"
     ]
    }
   ],
   "source": [
    "pointcloud_projector.parallel_batch_project_joblib(image_list, associations_folder_path, num_workers=8)"
   ]
  },
  {
   "cell_type": "code",
   "execution_count": 9,
   "metadata": {},
   "outputs": [],
   "source": [
    "# build keyimage associations\n",
    "from ssfm.keyimage_associations_builder import *"
   ]
  },
  {
   "cell_type": "code",
   "execution_count": 10,
   "metadata": {},
   "outputs": [
    {
     "name": "stderr",
     "output_type": "stream",
     "text": [
      "100%|██████████| 129/129 [00:50<00:00,  2.53it/s]\n"
     ]
    },
    {
     "name": "stdout",
     "output_type": "stream",
     "text": [
      "Building edges on GPU with 10 chunks took 5.454965114593506 seconds.\n"
     ]
    }
   ],
   "source": [
    "smc_solver = KeyimageAssociationsBuilder(image_list, associations_folder_path, segmentations_folder_path)\n",
    "smc_solver.build_associations()\n",
    "smc_solver.build_graph(10)"
   ]
  },
  {
   "cell_type": "code",
   "execution_count": 11,
   "metadata": {},
   "outputs": [
    {
     "name": "stdout",
     "output_type": "stream",
     "text": [
      "../data/box_canyon_park/associations/graph_with_cameras.graphml\n"
     ]
    }
   ],
   "source": [
    "smc_solver.add_camera_to_graph([camera_path], camera_type=\"Agisoft\")"
   ]
  },
  {
   "cell_type": "code",
   "execution_count": null,
   "metadata": {},
   "outputs": [],
   "source": [
    "smc_solver.find_min_cover()\n",
    "#smc_solver.refine(0.5)"
   ]
  },
  {
   "cell_type": "markdown",
   "metadata": {},
   "source": [
    "## 4. Estimate memory usage"
   ]
  },
  {
   "cell_type": "code",
   "execution_count": 12,
   "metadata": {},
   "outputs": [],
   "source": [
    "from ssfm.memory_calculator import memory_calculator"
   ]
  },
  {
   "cell_type": "code",
   "execution_count": 29,
   "metadata": {},
   "outputs": [
    {
     "name": "stdout",
     "output_type": "stream",
     "text": [
      "+----------------------------------------+----------------------+\n",
      "|              Memory Type               | Memory Required (GB) |\n",
      "+----------------------------------------+----------------------+\n",
      "|      Segmentation for each image       | 0.037181854248046875 |\n",
      "| Pixel2point association for each image | 0.07436370849609375  |\n",
      "| Point2pixel association for each image | 0.17169087380170822  |\n",
      "|                                        |                      |\n",
      "|      Segmentation for all images       |  4.796459197998047   |\n",
      "| Pixel2point association for all images |  9.592918395996094   |\n",
      "| Point2pixel association for all images |  22.14812272042036   |\n",
      "|          pc_segmentation_ids           |  0.8584543690085411  |\n",
      "|         pc_segmentation_probs          |  0.8584543690085411  |\n",
      "|          keyimage_association          |   5.53703068010509   |\n",
      "|                 Total                  |  43.79143973253667   |\n",
      "+----------------------------------------+----------------------+\n"
     ]
    }
   ],
   "source": [
    "# pointcloud file\n",
    "las_file = pointcloud_path\n",
    "# image file sample; this needs to be an original image even if patch images are used\n",
    "image_file = os.path.join(photos_folder_path, image_list[0])\n",
    "# number of images\n",
    "num_images = len(image_list)\n",
    "# number of segmentation ids for each point in the point cloud\n",
    "num_segmentation_ids = 5\n",
    "\n",
    "memory_calculator(las_file, image_file, num_images, num_segmentation_ids)"
   ]
  },
  {
   "cell_type": "markdown",
   "metadata": {},
   "source": [
    "## 5. Run object registration"
   ]
  },
  {
   "cell_type": "code",
   "execution_count": 13,
   "metadata": {},
   "outputs": [],
   "source": [
    "from ssfm.object_registration import *\n",
    "from ssfm.post_processing import *\n",
    "import time"
   ]
  },
  {
   "cell_type": "code",
   "execution_count": 14,
   "metadata": {},
   "outputs": [
    {
     "name": "stderr",
     "output_type": "stream",
     "text": [
      "Processing images: 100%|██████████| 129/129 [2:42:48<00:00, 75.72s/it]  \n"
     ]
    }
   ],
   "source": [
    "obr = ObjectRegistration(pointcloud_path, segmentations_folder_path, associations_folder_path, image_list=image_list, using_graph=True)\n",
    "\n",
    "# Run object registration\n",
    "obr.object_registration(iou_threshold=0.5, save_semantics=True)"
   ]
  },
  {
   "cell_type": "code",
   "execution_count": 15,
   "metadata": {},
   "outputs": [
    {
     "name": "stdout",
     "output_type": "stream",
     "text": [
      "Before removing small semantics: \n",
      "maximum of semantics:  8922\n",
      "number of unique semantics:  1693\n",
      "After removing small semantics: \n",
      "number of unique semantics:  411\n"
     ]
    }
   ],
   "source": [
    "image_id = 128\n",
    "semantics_folder_path = os.path.join(associations_folder_path, 'semantics', 'semantics_{}.npy'.format(image_id))\n",
    "save_las_path = os.path.join(associations_folder_path, 'semantics', 'semantics_{}.las'.format(image_id))\n",
    "add_semantics_to_pointcloud(pointcloud_path, semantics_folder_path, save_las_path, remove_small_N=500, nearest_interpolation=500)\n",
    "#add_semantics_to_pointcloud(pointcloud_path, semantics_folder_path, save_las_path)"
   ]
  },
  {
   "cell_type": "code",
   "execution_count": null,
   "metadata": {},
   "outputs": [],
   "source": [
    "print(save_las_path)\n",
    "\n",
    "# read las \n",
    "pc = laspy.read(save_las_path)\n",
    "# get the semantics from the intensity\n",
    "semantics = pc.intensity\n",
    "semantics_ids = np.unique(semantics)\n",
    "print('number of unique semantics: ', len(semantics_ids))\n",
    "# print the number of points for each semantics\n",
    "for i in semantics_ids:\n",
    "    n = np.sum(semantics == i)\n",
    "    if n < 100:\n",
    "        print('semantics id: ', i, ' number of points: ', n)"
   ]
  },
  {
   "cell_type": "code",
   "execution_count": 16,
   "metadata": {},
   "outputs": [
    {
     "name": "stdout",
     "output_type": "stream",
     "text": [
      "Number of unique semantics:  410\n"
     ]
    }
   ],
   "source": [
    "semantic_pc_file_path = save_las_path\n",
    "post_processing = PostProcessing(semantic_pc_file_path)\n",
    "post_processing.shuffle_semantic_ids(exclude_largest_semantic=False)\n",
    "save_las_path = os.path.join(associations_folder_path, 'semantics', 'semantics_{}_shuffled.las'.format(image_id))\n",
    "post_processing.save_semantic_pointcloud(save_las_path)"
   ]
  },
  {
   "cell_type": "code",
   "execution_count": null,
   "metadata": {},
   "outputs": [],
   "source": []
  }
 ],
 "metadata": {
  "kernelspec": {
   "display_name": "sam2_env",
   "language": "python",
   "name": "python3"
  },
  "language_info": {
   "codemirror_mode": {
    "name": "ipython",
    "version": 3
   },
   "file_extension": ".py",
   "mimetype": "text/x-python",
   "name": "python",
   "nbconvert_exporter": "python",
   "pygments_lexer": "ipython3",
   "version": "3.10.15"
  }
 },
 "nbformat": 4,
 "nbformat_minor": 2
}
