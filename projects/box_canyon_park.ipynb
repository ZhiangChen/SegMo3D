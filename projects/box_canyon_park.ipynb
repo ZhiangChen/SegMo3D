{
 "cells": [
  {
   "cell_type": "markdown",
   "metadata": {},
   "source": [
    "# Box Canyon Park \n",
    "\n",
    "https://www.google.com/maps/place/Box+Canyon+Park/@33.8857385,-117.7309815,910m/data=!3m2!1e3!4b1!4m6!3m5!1s0x80dcce2292288e59:0xc1684d99397ec327!8m2!3d33.8857385!4d-117.7284066!16s%2Fg%2F1tm8kwym?entry=ttu"
   ]
  },
  {
   "cell_type": "markdown",
   "metadata": {},
   "source": [
    "## 1. Organize data\n",
    "\n",
    "Create a folder under `semantic_SfM/data` and organize your data following the structures below. \n",
    "\n",
    "Using SfM products from Agisoft:\n",
    "```\n",
    "semantic_SfM/data\n",
    "    ├── box_canyon_park\n",
    "        ├── DJI_photos\n",
    "        │       ├── DJI_0000.JPG\n",
    "        │       ├── DJI_0001.JPG\n",
    "        │       ├── ...\n",
    "        │       └── DJI_0100.JPG\n",
    "        ├── SfM_products\n",
    "        │       ├── agisoft_cameras.xml\n",
    "        │       ├── model.jpg\n",
    "        │       ├── model.obj\n",
    "        │       ├── model.mtl\n",
    "        │       └── agisoft_model.las   \n",
    "        ├── segmentations\n",
    "        └── associations\n",
    "\n",
    "```"
   ]
  },
  {
   "cell_type": "markdown",
   "metadata": {},
   "source": [
    "## 2. Create 2D Segmentation using SAM"
   ]
  },
  {
   "cell_type": "code",
   "execution_count": null,
   "metadata": {},
   "outputs": [],
   "source": [
    "from ssfm.image_segmentation import ImageSegmentation\n",
    "import os"
   ]
  },
  {
   "cell_type": "code",
   "execution_count": null,
   "metadata": {},
   "outputs": [],
   "source": [
    "sam_params = {}\n",
    "sam_params['model_name'] = 'sam'\n",
    "sam_params['model_path'] = '../semantic_SfM/sam/sam_vit_h_4b8939.pth'\n",
    "sam_params['model_type'] = 'vit_h'\n",
    "sam_params['device'] = 'cuda:1'\n",
    "sam_params['points_per_side'] = 64\n",
    "sam_params['pred_iou_thresh'] = 0.96\n",
    "sam_params['stability_score_thresh'] = 0.92\n",
    "sam_params['crop_n_layers'] = 2"
   ]
  },
  {
   "cell_type": "code",
   "execution_count": null,
   "metadata": {},
   "outputs": [],
   "source": [
    "image_segmentor = ImageSegmentation(sam_params)   \n",
    "image_segmentor.set_distortion_correction('../data/box_canyon_park/SfM_products/agisoft_cameras.xml')\n",
    "image_folder_path = '../data/box_canyon_park/DJI_photos'\n",
    "segmentation_folder_path = '../data/box_canyon_park/segmentations'\n",
    "image_paths = [os.path.join(image_folder_path, f) for f in os.listdir(image_folder_path) if f.endswith('.JPG')]\n",
    "image_segmentor.batch_predict(image_paths, segmentation_folder_path, maximum_size=1000, save_overlap=True)"
   ]
  },
  {
   "cell_type": "markdown",
   "metadata": {},
   "source": [
    "## 3. Create projection associations"
   ]
  },
  {
   "cell_type": "code",
   "execution_count": null,
   "metadata": {},
   "outputs": [],
   "source": [
    "from ssfm.probabilistic_projection import *\n",
    "import time"
   ]
  },
  {
   "cell_type": "code",
   "execution_count": null,
   "metadata": {},
   "outputs": [],
   "source": [
    "pointcloud_projector = PointcloudProjection(depth_filtering_threshold=0.2)\n",
    "#pointcloud_projector = PointcloudProjection()"
   ]
  },
  {
   "cell_type": "code",
   "execution_count": null,
   "metadata": {},
   "outputs": [],
   "source": [
    "pointcloud_projector.read_camera_parameters('../data/box_canyon_park/SfM_products/agisoft_cameras.xml')\n",
    "pointcloud_projector.read_mesh('../data/box_canyon_park/SfM_products/model.obj')\n",
    "pointcloud_projector.read_pointcloud('../data/box_canyon_park/SfM_products/agisoft_model.las')"
   ]
  },
  {
   "cell_type": "code",
   "execution_count": null,
   "metadata": {},
   "outputs": [],
   "source": [
    "# batch project\n",
    "image_folder_path = '../data/box_canyon_park/DJI_photos'\n",
    "save_folder_path = '../data/box_canyon_park/associations'\n",
    "\n",
    "image_list = [f for f in os.listdir(image_folder_path) if f.endswith('.JPG')]\n",
    "pointcloud_projector.parallel_batch_project_joblib(image_list, save_folder_path, num_workers=8)"
   ]
  },
  {
   "cell_type": "code",
   "execution_count": null,
   "metadata": {},
   "outputs": [],
   "source": [
    "# build keyimage associations\n",
    "from ssfm.keyimage_associations_builder import *"
   ]
  },
  {
   "cell_type": "code",
   "execution_count": null,
   "metadata": {},
   "outputs": [],
   "source": [
    "smc_solver = KeyimageAssociationsBuilder('../data/box_canyon_park/associations', '../data/box_canyon_park/segmentations')\n",
    "smc_solver.build_associations()\n",
    "smc_solver.find_min_cover()\n",
    "smc_solver.refine(0.5)"
   ]
  },
  {
   "cell_type": "markdown",
   "metadata": {},
   "source": [
    "## 4. Estimate memory usage"
   ]
  },
  {
   "cell_type": "code",
   "execution_count": null,
   "metadata": {},
   "outputs": [],
   "source": [
    "from ssfm.memory_calculator import memory_calculator"
   ]
  },
  {
   "cell_type": "code",
   "execution_count": null,
   "metadata": {},
   "outputs": [],
   "source": [
    "# pointcloud file\n",
    "las_file = \"../data/box_canyon_park/SfM_products/agisoft_model.las\"\n",
    "# image file sample; this needs to be an original image even if patch images are used\n",
    "image_file = \"../data/box_canyon_park/DJI_photos/DJI_0350.JPG\"\n",
    "# number of images\n",
    "num_images = 129\n",
    "# number of segmentation ids for each point in the point cloud\n",
    "num_segmentation_ids = 5\n",
    "\n",
    "memory_calculator(las_file, image_file, num_images, num_segmentation_ids)"
   ]
  },
  {
   "cell_type": "markdown",
   "metadata": {},
   "source": [
    "## 5. Run object registration"
   ]
  },
  {
   "cell_type": "code",
   "execution_count": 1,
   "metadata": {},
   "outputs": [],
   "source": [
    "from ssfm.object_registration import *\n",
    "from ssfm.post_processing import PostProcessing\n",
    "import time"
   ]
  },
  {
   "cell_type": "code",
   "execution_count": null,
   "metadata": {},
   "outputs": [],
   "source": [
    "# Set paths\n",
    "pointcloud_path = '../data/box_canyon_park/SfM_products/agisoft_model.las'\n",
    "segmentation_folder_path = '../data/box_canyon_park/segmentations'\n",
    "image_folder_path = '../data/box_canyon_park/DJI_photos_split'\n",
    "association_folder_path = '../data/box_canyon_park/associations'\n",
    "\n",
    "keyimage_associations_file_name= 'refined_associations_keyimage.npy'\n",
    "keyimage_yaml_name= 'refined_keyimages.yaml'\n",
    "\n",
    "# Create object registration\n",
    "t1 = time.time()\n",
    "obr = ObjectRegistration(pointcloud_path, segmentation_folder_path, association_folder_path, keyimage_associations_file_name, keyimage_yaml_name)\n",
    "t2 = time.time()\n",
    "print('Time elapsed for creating object registration: {}'.format(t2-t1))\n",
    "\n",
    "# Run object registration\n",
    "obr.object_registration(iou_threshold=0.5, save_semantics=True)\n",
    "#obr.object_registration(iou_threshold=0.5)\n",
    "\n",
    "# save semantic point cloud\n",
    "obr.save_semantic_pointcloud('../data/box_canyon_park/associations/semantic_model.las')"
   ]
  },
  {
   "cell_type": "code",
   "execution_count": null,
   "metadata": {},
   "outputs": [],
   "source": [
    "# shuffle semantic ids\n",
    "semantic_pc_file_path = '../../data/box_canyon_park/semantic_model.las'\n",
    "post_processing = PostProcessing(semantic_pc_file_path)\n",
    "post_processing.shuffle_semantic_ids()\n",
    "save_las_path = '../../data/box_canyon_park/semantic_model_shuffled.las'\n",
    "post_processing.save_semantic_pointcloud(save_las_path)"
   ]
  },
  {
   "cell_type": "code",
   "execution_count": null,
   "metadata": {},
   "outputs": [],
   "source": [
    "\n",
    "pointcloud_path = '../../data/box_canyon_park/SfM_products/agisoft_model.las'\n",
    "segmentation_folder_path = '../../data/box_canyon_park/segmentations'\n",
    "image_folder_path = '../../data/box_canyon_park/DJI_photos'\n",
    "association_folder_path = '../../data/box_canyon_park/associations'\n",
    "\n",
    "obr = ObjectRegistration(pointcloud_path, segmentation_folder_path, association_folder_path)\n",
    "\n",
    "add_semantics_to_pointcloud_flag = True\n",
    "if add_semantics_to_pointcloud_flag:\n",
    "    image_id = 257\n",
    "    semantics_folder_path = os.path.join(association_folder_path, 'semantics', 'semantics_{}.npy'.format(image_id))\n",
    "    save_las_path = os.path.join(association_folder_path, 'semantics', 'semantics_{}_depth_filter.las'.format(image_id))\n",
    "    add_semantics_to_pointcloud(pointcloud_path, semantics_folder_path, save_las_path) "
   ]
  },
  {
   "cell_type": "code",
   "execution_count": 6,
   "metadata": {},
   "outputs": [
    {
     "name": "stdout",
     "output_type": "stream",
     "text": [
      "Number of unique semantics:  1880\n"
     ]
    }
   ],
   "source": [
    "# shuffle semantic ids\n",
    "semantic_pc_file_path = '../data/box_canyon_park/associations/semantics/semantics_257_depth_filter.las'\n",
    "post_processing = PostProcessing(semantic_pc_file_path)\n",
    "post_processing.shuffle_semantic_ids()\n",
    "save_las_path = '../data/box_canyon_park/semantic_model_shuffled.las'\n",
    "post_processing.save_semantic_pointcloud(save_las_path)"
   ]
  },
  {
   "cell_type": "code",
   "execution_count": null,
   "metadata": {},
   "outputs": [],
   "source": []
  }
 ],
 "metadata": {
  "kernelspec": {
   "display_name": "Python 3",
   "language": "python",
   "name": "python3"
  },
  "language_info": {
   "codemirror_mode": {
    "name": "ipython",
    "version": 3
   },
   "file_extension": ".py",
   "mimetype": "text/x-python",
   "name": "python",
   "nbconvert_exporter": "python",
   "pygments_lexer": "ipython3",
   "version": "3.6.8"
  }
 },
 "nbformat": 4,
 "nbformat_minor": 2
}
