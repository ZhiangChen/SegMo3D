{
 "cells": [
  {
   "cell_type": "markdown",
   "metadata": {},
   "source": [
    "# Granite Dells\n",
    "\n",
    "https://www.google.com/maps/dir//34.5936281,-112.4193333/@34.5933671,-112.4193692,256m/data=!3m1!1e3!4m2!4m1!3e0?entry=ttu&g_ep=EgoyMDI0MTIwNC4wIKXMDSoASAFQAw%3D%3D"
   ]
  },
  {
   "cell_type": "markdown",
   "metadata": {},
   "source": [
    "## 1. Organize data\n",
    "\n",
    "Create a folder under `semantic_SfM/data` and organize your data following the structures below. \n",
    "\n",
    "Using SfM products from Agisoft:\n",
    "```\n",
    "semantic_SfM/data\n",
    "    ├── granite_dells\n",
    "        ├── DJI_photos\n",
    "        │       ├── DJI_0000.JPG\n",
    "        │       ├── DJI_0001.JPG\n",
    "        │       ├── ...\n",
    "        │       └── DJI_0100.JPG\n",
    "        ├── SfM_products\n",
    "        │       ├── cameras.xml\n",
    "        │       ├── granite_dells_wgs_utm.jpg\n",
    "        │       ├── granite_dells_wgs_utm.obj\n",
    "        │       ├── granite_dells_wgs_utm.mtl\n",
    "        │       └── granite_dells_wgs_utm.las   \n",
    "        ├── segmentations\n",
    "        └── associations\n",
    "\n",
    "```"
   ]
  },
  {
   "cell_type": "code",
   "execution_count": 2,
   "metadata": {},
   "outputs": [],
   "source": [
    "import os\n",
    "\n",
    "scene_dir = '../../data/granite_dells'\n",
    "pointcloud_path = os.path.join(scene_dir, 'SfM_products', 'granite_dells_wgs_utm.las')\n",
    "associations_folder_path = os.path.join(scene_dir, 'associations')\n",
    "segmentations_folder_path = os.path.join(scene_dir, 'segmentations')\n",
    "photos_folder_path = os.path.join(scene_dir, 'DJI_photos')\n",
    "camera_path = os.path.join(scene_dir, 'SfM_products', 'cameras.xml')\n",
    "mesh_path = os.path.join(scene_dir, 'SfM_products', 'granite_dells_wgs_utm.obj')"
   ]
  },
  {
   "cell_type": "code",
   "execution_count": 3,
   "metadata": {},
   "outputs": [],
   "source": [
    "downsampling= False\n",
    "\n",
    "if downsampling == True:\n",
    "    from ssfm.downsample_pointcloud import downsample_pointcloud\n",
    "    downsampled_pointcloud_path = os.path.join(scene_dir, 'SfM_products', 'granite_dells_downsampled.las')\n",
    "    downsample_pointcloud(pointcloud_path, downsampled_pointcloud_path, \"uniform\", 4)\n",
    "\n",
    "\n",
    "downsampled_pointcloud_path = os.path.join(scene_dir, 'SfM_products', 'granite_dells_downsampled.las')\n",
    "pointcloud_path = downsampled_pointcloud_path"
   ]
  },
  {
   "cell_type": "markdown",
   "metadata": {},
   "source": [
    "## 2. Create 2D Segmentation using SAM"
   ]
  },
  {
   "cell_type": "code",
   "execution_count": 3,
   "metadata": {},
   "outputs": [],
   "source": [
    "from ssfm.image_segmentation import ImageSegmentation\n",
    "import os"
   ]
  },
  {
   "cell_type": "code",
   "execution_count": 4,
   "metadata": {},
   "outputs": [],
   "source": [
    "sam_params = {}\n",
    "sam_params['model_name'] = 'sam2'\n",
    "sam_params['model_path'] = '../../semantic_SfM/sam2/sam2.1_hiera_large.pt'\n",
    "sam_params['device'] = 'cuda:0'\n",
    "sam_params['points_per_side'] = 32\n",
    "sam_params['points_per_batch'] = 128\n",
    "sam_params['pred_iou_thresh'] = 0.6\n",
    "sam_params['stability_score_offset'] = 0.5\n",
    "sam_params['box_nms_thresh'] = 0.6\n",
    "sam_params['use_m2m'] = True\n",
    "\n",
    "\n",
    "image_path_list = [os.path.join(photos_folder_path, image) for image in os.listdir(photos_folder_path)]\n",
    "\n",
    "# sort images based on the values of keyimages in file names\n",
    "image_path_list = sorted(image_path_list, key=lambda x: int(x.split('/')[-1].split('.')[0].split('_')[-1]))\n",
    "\n",
    "image_list = [image for image in os.listdir(photos_folder_path)]\n",
    "\n",
    "# sort images based on the values of keyimages in file names\n",
    "image_list = sorted(image_list, key=lambda x: int(x.split('/')[-1].split('.')[0].split('_')[-1]))"
   ]
  },
  {
   "cell_type": "code",
   "execution_count": 5,
   "metadata": {},
   "outputs": [],
   "source": [
    "run_segmentation = False\n",
    "\n",
    "if run_segmentation:\n",
    "    image_segmentor = ImageSegmentation(sam_params)   \n",
    "    image_segmentor.set_distortion_correction(camera_path)\n",
    "    image_segmentor.batch_predict(image_path_list, segmentations_folder_path, save_overlap=True, skip_existing=False)"
   ]
  },
  {
   "cell_type": "markdown",
   "metadata": {},
   "source": [
    "### Simple filter"
   ]
  },
  {
   "cell_type": "code",
   "execution_count": 32,
   "metadata": {},
   "outputs": [],
   "source": [
    "from ssfm.simple_mask_filter import *\n"
   ]
  },
  {
   "cell_type": "code",
   "execution_count": null,
   "metadata": {},
   "outputs": [
    {
     "name": "stdout",
     "output_type": "stream",
     "text": [
      "Total number of files: 316\n"
     ]
    },
    {
     "name": "stderr",
     "output_type": "stream",
     "text": []
    },
    {
     "name": "stderr",
     "output_type": "stream",
     "text": [
      "100%|██████████| 316/316 [05:12<00:00,  1.01it/s]\n"
     ]
    }
   ],
   "source": [
    "apply_simple_filter = False\n",
    "\n",
    "if apply_simple_filter:\n",
    "    configs = {\n",
    "        'window_size': 5,\n",
    "        'depth_folder': \"../../data/granite_dells/associations/depth\",\n",
    "        'output_folder': \"../../data/granite_dells/segmentations_filtered\",\n",
    "        'area_upper_threshold': 10,\n",
    "        'area_lower_threshold': 0.001,\n",
    "        'erosion_kernel_size': 5,\n",
    "        'erosion_iteration':1,\n",
    "        'camera_parameter_file': \"../../data/granite_dells/SfM_products/cameras.xml\",\n",
    "        'background_mask': True\n",
    "    }\n",
    "\n",
    "    mask_filter = SimpleMaskFilter(configs)\n",
    "\n",
    "    segmentation_folder_path = \"../../data/granite_dells/segmentations\"\n",
    "\n",
    "    mask_filter.filter_batch_processes(segmentation_folder_path)"
   ]
  },
  {
   "cell_type": "code",
   "execution_count": 6,
   "metadata": {},
   "outputs": [],
   "source": [
    "segmentations_folder_path = \"../../data/granite_dells/segmentations_filtered\""
   ]
  },
  {
   "cell_type": "markdown",
   "metadata": {},
   "source": [
    "## 3. Create projection associations"
   ]
  },
  {
   "cell_type": "code",
   "execution_count": 7,
   "metadata": {},
   "outputs": [],
   "source": [
    "from ssfm.probabilistic_projection import *\n",
    "import time"
   ]
  },
  {
   "cell_type": "code",
   "execution_count": 10,
   "metadata": {},
   "outputs": [],
   "source": [
    "pointcloud_projector = PointcloudProjection(depth_filtering_threshold=0.01, effective_depth = np.inf)\n",
    "#pointcloud_projector = PointcloudProjection()"
   ]
  },
  {
   "cell_type": "code",
   "execution_count": 11,
   "metadata": {},
   "outputs": [],
   "source": [
    "pointcloud_projector.read_camera_parameters(camera_path)\n",
    "pointcloud_projector.read_mesh(mesh_path)\n",
    "pointcloud_projector.read_pointcloud(pointcloud_path)"
   ]
  },
  {
   "cell_type": "code",
   "execution_count": 12,
   "metadata": {},
   "outputs": [
    {
     "name": "stderr",
     "output_type": "stream",
     "text": [
      "Processing frames: 100%|██████████| 316/316 [18:14<00:00,  3.46s/it]\n"
     ]
    }
   ],
   "source": [
    "pointcloud_projector.parallel_batch_project_joblib(image_list, associations_folder_path, num_workers=8, save_depth=True)"
   ]
  },
  {
   "cell_type": "code",
   "execution_count": 13,
   "metadata": {},
   "outputs": [],
   "source": [
    "# build keyimage associations\n",
    "from ssfm.keyimage_associations_builder import *"
   ]
  },
  {
   "cell_type": "code",
   "execution_count": 14,
   "metadata": {},
   "outputs": [],
   "source": [
    "smc_solver = KeyimageAssociationsBuilder(image_list, associations_folder_path, segmentations_folder_path)"
   ]
  },
  {
   "cell_type": "code",
   "execution_count": 15,
   "metadata": {},
   "outputs": [
    {
     "name": "stderr",
     "output_type": "stream",
     "text": [
      "100%|██████████| 316/316 [00:51<00:00,  6.11it/s]\n"
     ]
    },
    {
     "name": "stdout",
     "output_type": "stream",
     "text": [
      "Building edges on GPU with 10 chunks took 14.347962379455566 seconds.\n"
     ]
    }
   ],
   "source": [
    "smc_solver.build_associations()\n",
    "smc_solver.build_graph(10)"
   ]
  },
  {
   "cell_type": "code",
   "execution_count": 16,
   "metadata": {},
   "outputs": [
    {
     "name": "stdout",
     "output_type": "stream",
     "text": [
      "../../data/granite_dells/associations/graph_with_cameras.graphml\n"
     ]
    }
   ],
   "source": [
    "smc_solver.add_camera_to_graph([camera_path], camera_type=\"Agisoft\")"
   ]
  },
  {
   "cell_type": "code",
   "execution_count": 17,
   "metadata": {},
   "outputs": [
    {
     "name": "stdout",
     "output_type": "stream",
     "text": [
      "| Metric                                                       | Count      | Percentage           |\n",
      "----------------------------------------------------------------------------------------------------\n",
      "| Number of points not covered by any image                    | 1772134    | 14.22                |\n",
      "| Number of points covered by less than or equal to 1 image    | 2521318    | 20.24                |\n",
      "| Number of points covered by less than or equal to 3 images   | 3920823    | 31.47                |\n",
      "| Number of points covered by less than or equal to 5 images   | 5037165    | 40.43                |\n"
     ]
    }
   ],
   "source": [
    "smc_solver.find_min_cover()\n",
    "#smc_solver.refine(0.5)"
   ]
  },
  {
   "cell_type": "markdown",
   "metadata": {},
   "source": [
    "## 4. Estimate memory usage"
   ]
  },
  {
   "cell_type": "code",
   "execution_count": 18,
   "metadata": {},
   "outputs": [],
   "source": [
    "from ssfm.memory_calculator import memory_calculator"
   ]
  },
  {
   "cell_type": "code",
   "execution_count": 19,
   "metadata": {},
   "outputs": [
    {
     "name": "stdout",
     "output_type": "stream",
     "text": [
      "+----------------------------------------+----------------------+\n",
      "|              Memory Type               | Memory Required (GB) |\n",
      "+----------------------------------------+----------------------+\n",
      "|      Segmentation for each image       | 0.022966861724853516 |\n",
      "| Pixel2point association for each image | 0.04593372344970703  |\n",
      "| Point2pixel association for each image | 0.04641452431678772  |\n",
      "|                                        |                      |\n",
      "|      Segmentation for all images       |  7.257528305053711   |\n",
      "| Pixel2point association for all images |  14.515056610107422  |\n",
      "| Point2pixel association for all images |  14.66698968410492   |\n",
      "|          pc_segmentation_ids           |  0.2320726215839386  |\n",
      "|         pc_segmentation_probs          |  0.2320726215839386  |\n",
      "|          keyimage_association          |   3.66674742102623   |\n",
      "|                 Total                  |  40.57046726346016   |\n",
      "+----------------------------------------+----------------------+\n"
     ]
    }
   ],
   "source": [
    "# pointcloud file\n",
    "las_file = pointcloud_path\n",
    "# image file sample; this needs to be an original image even if patch images are used\n",
    "image_file = os.path.join(photos_folder_path, image_list[0])\n",
    "# number of images\n",
    "num_images = len(image_list)\n",
    "# number of segmentation ids for each point in the point cloud\n",
    "num_segmentation_ids = 5\n",
    "\n",
    "memory_calculator(las_file, image_file, num_images, num_segmentation_ids)"
   ]
  },
  {
   "cell_type": "markdown",
   "metadata": {},
   "source": [
    "## 5. Run object registration"
   ]
  },
  {
   "cell_type": "code",
   "execution_count": 1,
   "metadata": {},
   "outputs": [],
   "source": [
    "from ssfm.object_registration import *\n",
    "from ssfm.post_processing import *\n",
    "import time"
   ]
  },
  {
   "cell_type": "code",
   "execution_count": 21,
   "metadata": {},
   "outputs": [
    {
     "name": "stderr",
     "output_type": "stream",
     "text": [
      "Processing images: 100%|██████████| 316/316 [3:20:40<00:00, 38.10s/it]   \n"
     ]
    }
   ],
   "source": [
    "obr = ObjectRegistration(pointcloud_path, segmentations_folder_path, associations_folder_path, image_list=image_list, using_graph=True, radius=2, decaying=1)\n",
    "\n",
    "# Run object registration\n",
    "obr.object_registration(iou_threshold=0.5, save_semantics=True)"
   ]
  },
  {
   "cell_type": "code",
   "execution_count": 22,
   "metadata": {},
   "outputs": [
    {
     "name": "stdout",
     "output_type": "stream",
     "text": [
      "Before removing small semantics: \n",
      "maximum of semantics:  18219\n",
      "number of unique semantics:  2534\n"
     ]
    },
    {
     "name": "stdout",
     "output_type": "stream",
     "text": [
      "After removing small semantics: \n",
      "number of unique semantics:  701\n"
     ]
    }
   ],
   "source": [
    "image_id = 315\n",
    "semantics_folder_path = os.path.join(associations_folder_path, 'semantics', 'semantics_{}.npy'.format(image_id))\n",
    "save_las_path = os.path.join(associations_folder_path, 'semantics', 'semantics_{}.las'.format(image_id))\n",
    "add_semantics_to_pointcloud(pointcloud_path, semantics_folder_path, save_las_path, remove_small_N=500, nearest_interpolation=500)\n",
    "#add_semantics_to_pointcloud(pointcloud_path, semantics_folder_path, save_las_path)"
   ]
  },
  {
   "cell_type": "code",
   "execution_count": 23,
   "metadata": {},
   "outputs": [
    {
     "name": "stdout",
     "output_type": "stream",
     "text": [
      "../../data/granite_dells/associations/semantics/semantics_315.las\n",
      "number of unique semantics:  700\n"
     ]
    }
   ],
   "source": [
    "print(save_las_path)\n",
    "\n",
    "# read las \n",
    "pc = laspy.read(save_las_path)\n",
    "# get the semantics from the intensity\n",
    "semantics = pc.intensity\n",
    "semantics_ids = np.unique(semantics)\n",
    "print('number of unique semantics: ', len(semantics_ids))\n",
    "# print the number of points for each semantics\n",
    "for i in semantics_ids:\n",
    "    n = np.sum(semantics == i)\n",
    "    if n < 100:\n",
    "        print('semantics id: ', i, ' number of points: ', n)"
   ]
  },
  {
   "cell_type": "code",
   "execution_count": 24,
   "metadata": {},
   "outputs": [
    {
     "name": "stdout",
     "output_type": "stream",
     "text": [
      "Number of unique semantics:  700\n"
     ]
    }
   ],
   "source": [
    "semantic_pc_file_path = save_las_path\n",
    "post_processing = PostProcessing(semantic_pc_file_path)\n",
    "post_processing.shuffle_semantic_ids(exclude_largest_semantic=False)\n",
    "save_las_path = os.path.join(associations_folder_path, 'semantics', 'semantics_{}_shuffled.las'.format(image_id))\n",
    "post_processing.save_semantic_pointcloud(save_las_path)"
   ]
  },
  {
   "cell_type": "code",
   "execution_count": 25,
   "metadata": {},
   "outputs": [
    {
     "name": "stdout",
     "output_type": "stream",
     "text": [
      "Number of unique semantics:  700\n"
     ]
    }
   ],
   "source": [
    "semantic_pc_file_path = save_las_path\n",
    "post_processing = PostProcessing(semantic_pc_file_path)\n",
    "post_processing.sort_semantic_ids(exclude_largest_semantic=False)\n",
    "save_las_path = os.path.join(associations_folder_path, 'semantics', 'semantics_{}_sorted.las'.format(image_id))\n",
    "post_processing.save_semantic_pointcloud(save_las_path)"
   ]
  },
  {
   "cell_type": "code",
   "execution_count": null,
   "metadata": {},
   "outputs": [],
   "source": []
  }
 ],
 "metadata": {
  "kernelspec": {
   "display_name": "Python 3",
   "language": "python",
   "name": "python3"
  },
  "language_info": {
   "codemirror_mode": {
    "name": "ipython",
    "version": 3
   },
   "file_extension": ".py",
   "mimetype": "text/x-python",
   "name": "python",
   "nbconvert_exporter": "python",
   "pygments_lexer": "ipython3",
   "version": "3.6.8"
  }
 },
 "nbformat": 4,
 "nbformat_minor": 2
}
