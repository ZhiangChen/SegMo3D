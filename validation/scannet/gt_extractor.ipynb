{
 "cells": [
  {
   "cell_type": "code",
   "execution_count": 1,
   "metadata": {},
   "outputs": [],
   "source": [
    "from plyfile import PlyData, PlyElement\n",
    "import numpy as np\n",
    "import random\n",
    "import os\n",
    "import numpy as np\n",
    "import matplotlib.pyplot as plt\n",
    "from PIL import Image\n",
    "import cv2\n",
    "import tqdm\n",
    "import laspy"
   ]
  },
  {
   "cell_type": "code",
   "execution_count": 2,
   "metadata": {},
   "outputs": [],
   "source": [
    "def read_label_plymesh(filename):\n",
    "    \"\"\"Read a .ply file and extract vertex and face data with attributes.\"\"\"\n",
    "    plydata = PlyData.read(filename)\n",
    "    \n",
    "    # Extract vertex data\n",
    "    vertex_data = plydata['vertex'].data\n",
    "    data = {\n",
    "        'x': vertex_data['x'],\n",
    "        'y': vertex_data['y'],\n",
    "        'z': vertex_data['z'],\n",
    "        'red': vertex_data['red'],\n",
    "        'green': vertex_data['green'],\n",
    "        'blue': vertex_data['blue'],\n",
    "        'label': vertex_data['label'] if 'label' in vertex_data.dtype.names else None,\n",
    "        'instance_id': vertex_data['instance_id'] if 'instance_id' in vertex_data.dtype.names else None,\n",
    "    }\n",
    "    vertices = np.array([data['x'], data['y'], data['z'], data['red'], data['green'], data['blue'], \n",
    "                         data['label'], data['instance_id']]).T\n",
    "    \n",
    "    # Extract face data if available\n",
    "    faces = None\n",
    "    if 'face' in plydata:\n",
    "        faces = np.vstack(plydata['face'].data['vertex_indices'])  # Ensure it's in the correct shape (N, 3)\n",
    "    \n",
    "    return vertices, faces\n",
    "\n",
    "def assign_random_colors(vertices):\n",
    "    # Check if 'instance_id' exists (assumed in the 8th column if present)\n",
    "    instance_id_index = 7 if vertices.shape[1] == 8 else None\n",
    "    if instance_id_index is None:\n",
    "        raise ValueError(\"Vertices data does not contain 'instance_id' information.\")\n",
    "    \n",
    "    # Extract instance IDs\n",
    "    instance_ids = vertices[:, instance_id_index]\n",
    "    unique_ids = np.unique(instance_ids)\n",
    "    \n",
    "    # Create a color map with random colors for each unique instance ID\n",
    "    color_map = {instance_id: (random.randint(0, 255), random.randint(0, 255), random.randint(0, 255)) for instance_id in unique_ids}\n",
    "    \n",
    "    # Assign random colors to each vertex based on instance ID\n",
    "    colors = np.array([color_map[instance_id] for instance_id in instance_ids])\n",
    "    vertices[:, 3:6] = colors  # Replace RGB columns with new random colors\n",
    "\n",
    "    return vertices\n",
    "\n",
    "\n",
    "def save_colored_ply(vertices, faces, filename, with_label=True):\n",
    "    \"\"\"Save an RGB point cloud as a PLY file with random colors for each instance_id.\"\"\"\n",
    "    assert vertices.ndim == 2\n",
    "\n",
    "    if with_label:\n",
    "        if vertices.shape[1] == 7:\n",
    "            python_types = (float, float, float, int, int, int, int)\n",
    "            npy_types = [('x', 'f4'), ('y', 'f4'), ('z', 'f4'), ('red', 'u1'), ('green', 'u1'),\n",
    "                         ('blue', 'u1'), ('label', 'u4')]\n",
    "        elif vertices.shape[1] == 8:\n",
    "            python_types = (float, float, float, int, int, int, int, int)\n",
    "            npy_types = [('x', 'f4'), ('y', 'f4'), ('z', 'f4'), ('red', 'u1'), ('green', 'u1'),\n",
    "                         ('blue', 'u1'), ('label', 'u4'), ('instance_id', 'u4')]\n",
    "\n",
    "    vertices_list = []\n",
    "    for row_idx in range(vertices.shape[0]):\n",
    "        cur_point = vertices[row_idx]\n",
    "        vertices_list.append(tuple(dtype(point) for dtype, point in zip(python_types, cur_point)))\n",
    "    vertices_array = np.array(vertices_list, dtype=npy_types)\n",
    "    elements = [PlyElement.describe(vertices_array, 'vertex')]\n",
    "\n",
    "    # Add face elements if available\n",
    "    if faces is not None:\n",
    "        faces_array = np.empty(len(faces), dtype=[('vertex_indices', 'i4', (3,))])\n",
    "        faces_array['vertex_indices'] = faces\n",
    "        elements.append(PlyElement.describe(faces_array, 'face'))\n",
    "\n",
    "    # Write to file\n",
    "    PlyData(elements).write(filename)"
   ]
  },
  {
   "cell_type": "code",
   "execution_count": 10,
   "metadata": {},
   "outputs": [
    {
     "name": "stdout",
     "output_type": "stream",
     "text": [
      "Number of unique instance IDs: 36\n"
     ]
    }
   ],
   "source": [
    "vertices, faces = read_label_plymesh('../../data/scannet200/val/scene0700_00.ply')\n",
    "instance_ids = vertices[:, 7]\n",
    "print('Number of unique instance IDs:', len(np.unique(instance_ids)))"
   ]
  },
  {
   "cell_type": "code",
   "execution_count": 9,
   "metadata": {},
   "outputs": [
    {
     "name": "stdout",
     "output_type": "stream",
     "text": [
      "Number of unique semantic labels: 37\n"
     ]
    }
   ],
   "source": [
    "semantics = np.load('../../data/scannet/ssfm_valid/scene0700_00/associations/semantic_points.npy')\n",
    "print('Number of unique semantic labels:', len(np.unique(semantics)))"
   ]
  },
  {
   "cell_type": "code",
   "execution_count": null,
   "metadata": {},
   "outputs": [],
   "source": []
  },
  {
   "cell_type": "code",
   "execution_count": 14,
   "metadata": {},
   "outputs": [],
   "source": [
    "def convert_to_las(vertices, las_filename):\n",
    "    # Check if 'instance_id' exists (assumed in the 8th column if present)\n",
    "    instance_id_index = 7 if vertices.shape[1] == 8 else None\n",
    "    if instance_id_index is None:\n",
    "        raise ValueError(\"Vertices data does not contain 'instance_id' information.\")\n",
    "\n",
    "    # Create a .las file and write the combined points to it\n",
    "    header = laspy.LasHeader(point_format=3, version=\"1.2\")\n",
    "    header.scale = [0.001, 0.001, 0.001]\n",
    "\n",
    "    las = laspy.LasData(header)\n",
    "    las.x = vertices[:, 0]\n",
    "    las.y = vertices[:, 1]\n",
    "    las.z = vertices[:, 2]\n",
    "\n",
    "    # assign instance id to las intensity\n",
    "    las.intensity = vertices[:, instance_id_index]\n",
    "\n",
    "    las.write(las_filename)\n",
    "    "
   ]
  },
  {
   "cell_type": "code",
   "execution_count": 17,
   "metadata": {},
   "outputs": [
    {
     "name": "stderr",
     "output_type": "stream",
     "text": [
      "100%|██████████| 312/312 [50:43<00:00,  9.76s/it] \n"
     ]
    }
   ],
   "source": [
    "label_folder = '../../data/scannet200/val'\n",
    "save_folder = '../../data/scannet/ssfm_valid'\n",
    "scan_folder = '../../data/scannet/scans'\n",
    "label_ply_files = [os.path.join(label_folder, f) for f in os.listdir(label_folder) if f.endswith('.ply')]\n",
    "\n",
    "for label_ply_file in tqdm.tqdm(label_ply_files):\n",
    "    vertices, faces = read_label_plymesh(label_ply_file)\n",
    "    scene_name = os.path.basename(label_ply_file).split('.')[0]\n",
    "    scan_scene_folder = os.path.join(scan_folder, scene_name)\n",
    "    save_scene_folder = os.path.join(save_folder, scene_name, 'reconstructions')\n",
    "    if not os.path.exists(save_scene_folder):\n",
    "        continue\n",
    "\n",
    "    original_ply = os.path.join(scan_scene_folder, scene_name + '_vh_clean_2.ply')\n",
    "    plydata = PlyData.read(original_ply)\n",
    "    vertex_data = plydata['vertex'].data\n",
    "\n",
    "    # replace the xyz\n",
    "    vertices[:, 0] = vertex_data['x']\n",
    "    vertices[:, 1] = vertex_data['y']\n",
    "    vertices[:, 2] = vertex_data['z']\n",
    "\n",
    "    # Assign random colors based on instance ID\n",
    "    colored_vertices = assign_random_colors(vertices)\n",
    "    convert_to_las(colored_vertices, os.path.join(save_scene_folder, scene_name + '.las'))\n",
    "\n",
    "    output_file = os.path.join(save_scene_folder, scene_name + '.ply')\n",
    "\n",
    "    # Save the new PLY file with random colors and reuse faces\n",
    "    save_colored_ply(colored_vertices, faces, output_file)\n"
   ]
  }
 ],
 "metadata": {
  "kernelspec": {
   "display_name": "Python 3",
   "language": "python",
   "name": "python3"
  },
  "language_info": {
   "codemirror_mode": {
    "name": "ipython",
    "version": 3
   },
   "file_extension": ".py",
   "mimetype": "text/x-python",
   "name": "python",
   "nbconvert_exporter": "python",
   "pygments_lexer": "ipython3",
   "version": "3.6.8"
  }
 },
 "nbformat": 4,
 "nbformat_minor": 2
}
