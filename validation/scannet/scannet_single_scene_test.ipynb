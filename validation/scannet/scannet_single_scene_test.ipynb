{
 "cells": [
  {
   "cell_type": "markdown",
   "metadata": {},
   "source": [
    "# Semantic SfM of single scene in Scannet"
   ]
  },
  {
   "cell_type": "markdown",
   "metadata": {},
   "source": [
    "### 1a. Download entire Scannet dataset\n",
    "\n",
    "Find information on ScanNet website: http://www.scan-net.org/ScanNet/\n",
    "\n",
    "After download the data, I should extract data from .sens using [SensReader/reader.py](https://github.com/ScanNet/ScanNet/tree/master/SensReader/python). To extract all scans in the test data, I wrote a script to automate executing the python script, `reader.py`:\n",
    "\n",
    "```python\n",
    "import os\n",
    "import subprocess\n",
    "\n",
    "# Define the base directory for the scans_test\n",
    "base_dir = \"/home/zchen256/semantic_SfM/data/scannet/scans_test\"\n",
    "\n",
    "# Iterate over all files in the directory\n",
    "for root, dirs, files in os.walk(base_dir):\n",
    "    for file in files:\n",
    "        if file.endswith(\".sens\"):\n",
    "            # Construct the full path to the .sens file\n",
    "            sens_file = os.path.join(root, file)\n",
    "            # Construct the output path\n",
    "            output_path = os.path.join(root, \"output\")\n",
    "            # Create the output directory if it doesn't exist\n",
    "            os.makedirs(output_path, exist_ok=True)\n",
    "            # Construct the command\n",
    "            command = [\n",
    "                \"python3\", \"reader.py\",\n",
    "                \"--filename\", sens_file,\n",
    "                \"--output_path\", output_path,\n",
    "                \"--export_depth_images\",\n",
    "                \"--export_color_images\",\n",
    "                \"--export_poses\",\n",
    "                \"--export_intrinsics\"\n",
    "            ]\n",
    "            # Run the command\n",
    "            print(command)\n",
    "            subprocess.run(command)\n",
    "```"
   ]
  },
  {
   "cell_type": "markdown",
   "metadata": {},
   "source": [
    "### 1b. Extract Scannet data to prepare SSfM data in batch"
   ]
  },
  {
   "cell_type": "code",
   "execution_count": 3,
   "metadata": {},
   "outputs": [
    {
     "name": "stdout",
     "output_type": "stream",
     "text": [
      "Jupyter environment detected. Enabling Open3D WebVisualizer.\n",
      "[Open3D INFO] WebRTC GUI backend enabled.\n",
      "[Open3D INFO] WebRTCWindowSystem: HTTP handshake server disabled.\n"
     ]
    }
   ],
   "source": [
    "from scene_extractor import *\n",
    "import os"
   ]
  },
  {
   "cell_type": "code",
   "execution_count": 4,
   "metadata": {},
   "outputs": [],
   "source": [
    "scan_dir = '../../data/scannet/scans_test'\n",
    "save_dir = '../../data/scannet/ssfm'\n",
    "scene_dir = os.path.join(save_dir, 'scene0707_00')"
   ]
  },
  {
   "cell_type": "code",
   "execution_count": 5,
   "metadata": {},
   "outputs": [],
   "source": [
    "# batch project\n",
    "photos_folder_path = os.path.join(scene_dir, 'photos')\n",
    "associations_folder_path = os.path.join(scene_dir, 'associations')\n",
    "segmentations_folder_path = os.path.join(scene_dir, 'segmentations')\n",
    "associations_folder_path = os.path.join(scene_dir, 'associations')"
   ]
  },
  {
   "cell_type": "code",
   "execution_count": 3,
   "metadata": {},
   "outputs": [
    {
     "name": "stdout",
     "output_type": "stream",
     "text": [
      "Extracted 5578 segmentations\n"
     ]
    }
   ],
   "source": [
    "batch_extract_scenes(scan_dir, save_dir)"
   ]
  },
  {
   "cell_type": "markdown",
   "metadata": {},
   "source": [
    "### 2. Select keyimages based on blur"
   ]
  },
  {
   "cell_type": "code",
   "execution_count": 6,
   "metadata": {},
   "outputs": [],
   "source": [
    "from select_keyimages import select_scannet_keyimages\n",
    "import os"
   ]
  },
  {
   "cell_type": "code",
   "execution_count": 33,
   "metadata": {},
   "outputs": [
    {
     "name": "stderr",
     "output_type": "stream",
     "text": [
      "Processing images: 100%|██████████| 784/784 [00:04<00:00, 164.68it/s]\n"
     ]
    },
    {
     "name": "stdout",
     "output_type": "stream",
     "text": [
      "Number of keyimages_threshold:  5\n",
      "Number of keyimages_ratio:  392\n",
      "Number of keyimages:  392\n",
      "Number of selected keyimages from window:  157\n",
      "Number of selected keyimages:  244\n",
      "Total images:  784\n",
      "Keyimages saved to:  ../../data/scannet/ssfm/scene0707_00/associations/keyimages.yaml\n"
     ]
    }
   ],
   "source": [
    "select_scannet_keyimages(scene_dir, ratio=0.5, threshold=150, file_cluster_size=5, file_select_window=5, n_jobs=8)"
   ]
  },
  {
   "cell_type": "markdown",
   "metadata": {},
   "source": [
    "### 3. Segment keyimages"
   ]
  },
  {
   "cell_type": "code",
   "execution_count": 8,
   "metadata": {},
   "outputs": [],
   "source": [
    "from ssfm.image_segmentation import ImageSegmentation\n",
    "import yaml"
   ]
  },
  {
   "cell_type": "code",
   "execution_count": 13,
   "metadata": {},
   "outputs": [],
   "source": [
    "sam_params = {}\n",
    "sam_params['model_name'] = 'sam'\n",
    "sam_params['model_path'] = '../../semantic_SfM/sam/sam_vit_h_4b8939.pth'\n",
    "sam_params['model_type'] = 'vit_h'\n",
    "sam_params['device'] = 'cuda:3'\n",
    "sam_params['points_per_side'] = 32\n",
    "sam_params['pred_iou_thresh'] = 0.96\n",
    "sam_params['stability_score_thresh'] = 0.96\n",
    "sam_params['crop_n_layers'] = 1"
   ]
  },
  {
   "cell_type": "code",
   "execution_count": 9,
   "metadata": {},
   "outputs": [
    {
     "name": "stdout",
     "output_type": "stream",
     "text": [
      "['../../data/scannet/ssfm/scene0707_00/photos/0.jpg', '../../data/scannet/ssfm/scene0707_00/photos/2.jpg', '../../data/scannet/ssfm/scene0707_00/photos/5.jpg', '../../data/scannet/ssfm/scene0707_00/photos/6.jpg', '../../data/scannet/ssfm/scene0707_00/photos/7.jpg', '../../data/scannet/ssfm/scene0707_00/photos/11.jpg', '../../data/scannet/ssfm/scene0707_00/photos/14.jpg', '../../data/scannet/ssfm/scene0707_00/photos/15.jpg', '../../data/scannet/ssfm/scene0707_00/photos/19.jpg', '../../data/scannet/ssfm/scene0707_00/photos/21.jpg', '../../data/scannet/ssfm/scene0707_00/photos/23.jpg', '../../data/scannet/ssfm/scene0707_00/photos/24.jpg', '../../data/scannet/ssfm/scene0707_00/photos/25.jpg', '../../data/scannet/ssfm/scene0707_00/photos/29.jpg', '../../data/scannet/ssfm/scene0707_00/photos/31.jpg', '../../data/scannet/ssfm/scene0707_00/photos/32.jpg', '../../data/scannet/ssfm/scene0707_00/photos/35.jpg', '../../data/scannet/ssfm/scene0707_00/photos/39.jpg', '../../data/scannet/ssfm/scene0707_00/photos/41.jpg', '../../data/scannet/ssfm/scene0707_00/photos/42.jpg', '../../data/scannet/ssfm/scene0707_00/photos/46.jpg', '../../data/scannet/ssfm/scene0707_00/photos/47.jpg', '../../data/scannet/ssfm/scene0707_00/photos/48.jpg', '../../data/scannet/ssfm/scene0707_00/photos/50.jpg', '../../data/scannet/ssfm/scene0707_00/photos/54.jpg', '../../data/scannet/ssfm/scene0707_00/photos/56.jpg', '../../data/scannet/ssfm/scene0707_00/photos/59.jpg', '../../data/scannet/ssfm/scene0707_00/photos/60.jpg', '../../data/scannet/ssfm/scene0707_00/photos/64.jpg', '../../data/scannet/ssfm/scene0707_00/photos/65.jpg', '../../data/scannet/ssfm/scene0707_00/photos/66.jpg', '../../data/scannet/ssfm/scene0707_00/photos/67.jpg', '../../data/scannet/ssfm/scene0707_00/photos/70.jpg', '../../data/scannet/ssfm/scene0707_00/photos/73.jpg', '../../data/scannet/ssfm/scene0707_00/photos/75.jpg', '../../data/scannet/ssfm/scene0707_00/photos/79.jpg', '../../data/scannet/ssfm/scene0707_00/photos/81.jpg', '../../data/scannet/ssfm/scene0707_00/photos/82.jpg', '../../data/scannet/ssfm/scene0707_00/photos/85.jpg', '../../data/scannet/ssfm/scene0707_00/photos/89.jpg', '../../data/scannet/ssfm/scene0707_00/photos/91.jpg', '../../data/scannet/ssfm/scene0707_00/photos/93.jpg', '../../data/scannet/ssfm/scene0707_00/photos/95.jpg', '../../data/scannet/ssfm/scene0707_00/photos/97.jpg', '../../data/scannet/ssfm/scene0707_00/photos/100.jpg', '../../data/scannet/ssfm/scene0707_00/photos/104.jpg', '../../data/scannet/ssfm/scene0707_00/photos/105.jpg', '../../data/scannet/ssfm/scene0707_00/photos/109.jpg', '../../data/scannet/ssfm/scene0707_00/photos/111.jpg', '../../data/scannet/ssfm/scene0707_00/photos/112.jpg', '../../data/scannet/ssfm/scene0707_00/photos/115.jpg', '../../data/scannet/ssfm/scene0707_00/photos/117.jpg', '../../data/scannet/ssfm/scene0707_00/photos/121.jpg', '../../data/scannet/ssfm/scene0707_00/photos/122.jpg', '../../data/scannet/ssfm/scene0707_00/photos/126.jpg', '../../data/scannet/ssfm/scene0707_00/photos/128.jpg', '../../data/scannet/ssfm/scene0707_00/photos/130.jpg', '../../data/scannet/ssfm/scene0707_00/photos/134.jpg', '../../data/scannet/ssfm/scene0707_00/photos/135.jpg', '../../data/scannet/ssfm/scene0707_00/photos/137.jpg', '../../data/scannet/ssfm/scene0707_00/photos/141.jpg', '../../data/scannet/ssfm/scene0707_00/photos/142.jpg', '../../data/scannet/ssfm/scene0707_00/photos/144.jpg', '../../data/scannet/ssfm/scene0707_00/photos/145.jpg', '../../data/scannet/ssfm/scene0707_00/photos/149.jpg', '../../data/scannet/ssfm/scene0707_00/photos/150.jpg', '../../data/scannet/ssfm/scene0707_00/photos/152.jpg', '../../data/scannet/ssfm/scene0707_00/photos/155.jpg', '../../data/scannet/ssfm/scene0707_00/photos/159.jpg', '../../data/scannet/ssfm/scene0707_00/photos/161.jpg', '../../data/scannet/ssfm/scene0707_00/photos/163.jpg', '../../data/scannet/ssfm/scene0707_00/photos/166.jpg', '../../data/scannet/ssfm/scene0707_00/photos/167.jpg', '../../data/scannet/ssfm/scene0707_00/photos/169.jpg', '../../data/scannet/ssfm/scene0707_00/photos/171.jpg', '../../data/scannet/ssfm/scene0707_00/photos/173.jpg', '../../data/scannet/ssfm/scene0707_00/photos/174.jpg', '../../data/scannet/ssfm/scene0707_00/photos/176.jpg', '../../data/scannet/ssfm/scene0707_00/photos/179.jpg', '../../data/scannet/ssfm/scene0707_00/photos/181.jpg', '../../data/scannet/ssfm/scene0707_00/photos/184.jpg', '../../data/scannet/ssfm/scene0707_00/photos/185.jpg', '../../data/scannet/ssfm/scene0707_00/photos/186.jpg', '../../data/scannet/ssfm/scene0707_00/photos/187.jpg', '../../data/scannet/ssfm/scene0707_00/photos/190.jpg', '../../data/scannet/ssfm/scene0707_00/photos/192.jpg', '../../data/scannet/ssfm/scene0707_00/photos/195.jpg', '../../data/scannet/ssfm/scene0707_00/photos/197.jpg', '../../data/scannet/ssfm/scene0707_00/photos/200.jpg', '../../data/scannet/ssfm/scene0707_00/photos/202.jpg', '../../data/scannet/ssfm/scene0707_00/photos/204.jpg', '../../data/scannet/ssfm/scene0707_00/photos/205.jpg', '../../data/scannet/ssfm/scene0707_00/photos/207.jpg', '../../data/scannet/ssfm/scene0707_00/photos/210.jpg', '../../data/scannet/ssfm/scene0707_00/photos/214.jpg', '../../data/scannet/ssfm/scene0707_00/photos/215.jpg', '../../data/scannet/ssfm/scene0707_00/photos/216.jpg', '../../data/scannet/ssfm/scene0707_00/photos/224.jpg', '../../data/scannet/ssfm/scene0707_00/photos/225.jpg', '../../data/scannet/ssfm/scene0707_00/photos/233.jpg', '../../data/scannet/ssfm/scene0707_00/photos/234.jpg', '../../data/scannet/ssfm/scene0707_00/photos/236.jpg', '../../data/scannet/ssfm/scene0707_00/photos/237.jpg', '../../data/scannet/ssfm/scene0707_00/photos/239.jpg', '../../data/scannet/ssfm/scene0707_00/photos/240.jpg', '../../data/scannet/ssfm/scene0707_00/photos/242.jpg', '../../data/scannet/ssfm/scene0707_00/photos/244.jpg', '../../data/scannet/ssfm/scene0707_00/photos/245.jpg', '../../data/scannet/ssfm/scene0707_00/photos/250.jpg', '../../data/scannet/ssfm/scene0707_00/photos/251.jpg', '../../data/scannet/ssfm/scene0707_00/photos/252.jpg', '../../data/scannet/ssfm/scene0707_00/photos/259.jpg', '../../data/scannet/ssfm/scene0707_00/photos/262.jpg', '../../data/scannet/ssfm/scene0707_00/photos/264.jpg', '../../data/scannet/ssfm/scene0707_00/photos/265.jpg', '../../data/scannet/ssfm/scene0707_00/photos/270.jpg', '../../data/scannet/ssfm/scene0707_00/photos/275.jpg', '../../data/scannet/ssfm/scene0707_00/photos/276.jpg', '../../data/scannet/ssfm/scene0707_00/photos/280.jpg', '../../data/scannet/ssfm/scene0707_00/photos/283.jpg', '../../data/scannet/ssfm/scene0707_00/photos/289.jpg', '../../data/scannet/ssfm/scene0707_00/photos/290.jpg', '../../data/scannet/ssfm/scene0707_00/photos/299.jpg', '../../data/scannet/ssfm/scene0707_00/photos/300.jpg', '../../data/scannet/ssfm/scene0707_00/photos/305.jpg', '../../data/scannet/ssfm/scene0707_00/photos/311.jpg', '../../data/scannet/ssfm/scene0707_00/photos/312.jpg', '../../data/scannet/ssfm/scene0707_00/photos/318.jpg', '../../data/scannet/ssfm/scene0707_00/photos/324.jpg', '../../data/scannet/ssfm/scene0707_00/photos/329.jpg', '../../data/scannet/ssfm/scene0707_00/photos/330.jpg', '../../data/scannet/ssfm/scene0707_00/photos/335.jpg', '../../data/scannet/ssfm/scene0707_00/photos/341.jpg', '../../data/scannet/ssfm/scene0707_00/photos/344.jpg', '../../data/scannet/ssfm/scene0707_00/photos/347.jpg', '../../data/scannet/ssfm/scene0707_00/photos/348.jpg', '../../data/scannet/ssfm/scene0707_00/photos/351.jpg', '../../data/scannet/ssfm/scene0707_00/photos/359.jpg', '../../data/scannet/ssfm/scene0707_00/photos/363.jpg', '../../data/scannet/ssfm/scene0707_00/photos/365.jpg', '../../data/scannet/ssfm/scene0707_00/photos/366.jpg', '../../data/scannet/ssfm/scene0707_00/photos/373.jpg', '../../data/scannet/ssfm/scene0707_00/photos/379.jpg', '../../data/scannet/ssfm/scene0707_00/photos/383.jpg', '../../data/scannet/ssfm/scene0707_00/photos/389.jpg', '../../data/scannet/ssfm/scene0707_00/photos/394.jpg', '../../data/scannet/ssfm/scene0707_00/photos/399.jpg', '../../data/scannet/ssfm/scene0707_00/photos/400.jpg', '../../data/scannet/ssfm/scene0707_00/photos/406.jpg', '../../data/scannet/ssfm/scene0707_00/photos/408.jpg', '../../data/scannet/ssfm/scene0707_00/photos/410.jpg', '../../data/scannet/ssfm/scene0707_00/photos/417.jpg', '../../data/scannet/ssfm/scene0707_00/photos/421.jpg', '../../data/scannet/ssfm/scene0707_00/photos/429.jpg', '../../data/scannet/ssfm/scene0707_00/photos/430.jpg', '../../data/scannet/ssfm/scene0707_00/photos/436.jpg', '../../data/scannet/ssfm/scene0707_00/photos/438.jpg', '../../data/scannet/ssfm/scene0707_00/photos/440.jpg', '../../data/scannet/ssfm/scene0707_00/photos/449.jpg', '../../data/scannet/ssfm/scene0707_00/photos/450.jpg', '../../data/scannet/ssfm/scene0707_00/photos/459.jpg', '../../data/scannet/ssfm/scene0707_00/photos/463.jpg', '../../data/scannet/ssfm/scene0707_00/photos/469.jpg', '../../data/scannet/ssfm/scene0707_00/photos/471.jpg', '../../data/scannet/ssfm/scene0707_00/photos/475.jpg', '../../data/scannet/ssfm/scene0707_00/photos/483.jpg', '../../data/scannet/ssfm/scene0707_00/photos/485.jpg', '../../data/scannet/ssfm/scene0707_00/photos/486.jpg', '../../data/scannet/ssfm/scene0707_00/photos/490.jpg', '../../data/scannet/ssfm/scene0707_00/photos/496.jpg', '../../data/scannet/ssfm/scene0707_00/photos/499.jpg', '../../data/scannet/ssfm/scene0707_00/photos/500.jpg', '../../data/scannet/ssfm/scene0707_00/photos/507.jpg', '../../data/scannet/ssfm/scene0707_00/photos/513.jpg', '../../data/scannet/ssfm/scene0707_00/photos/515.jpg', '../../data/scannet/ssfm/scene0707_00/photos/521.jpg', '../../data/scannet/ssfm/scene0707_00/photos/524.jpg', '../../data/scannet/ssfm/scene0707_00/photos/525.jpg', '../../data/scannet/ssfm/scene0707_00/photos/530.jpg', '../../data/scannet/ssfm/scene0707_00/photos/539.jpg', '../../data/scannet/ssfm/scene0707_00/photos/541.jpg', '../../data/scannet/ssfm/scene0707_00/photos/545.jpg', '../../data/scannet/ssfm/scene0707_00/photos/551.jpg', '../../data/scannet/ssfm/scene0707_00/photos/557.jpg', '../../data/scannet/ssfm/scene0707_00/photos/559.jpg', '../../data/scannet/ssfm/scene0707_00/photos/561.jpg', '../../data/scannet/ssfm/scene0707_00/photos/564.jpg', '../../data/scannet/ssfm/scene0707_00/photos/565.jpg', '../../data/scannet/ssfm/scene0707_00/photos/572.jpg', '../../data/scannet/ssfm/scene0707_00/photos/575.jpg', '../../data/scannet/ssfm/scene0707_00/photos/576.jpg', '../../data/scannet/ssfm/scene0707_00/photos/584.jpg', '../../data/scannet/ssfm/scene0707_00/photos/585.jpg', '../../data/scannet/ssfm/scene0707_00/photos/593.jpg', '../../data/scannet/ssfm/scene0707_00/photos/594.jpg', '../../data/scannet/ssfm/scene0707_00/photos/598.jpg', '../../data/scannet/ssfm/scene0707_00/photos/600.jpg', '../../data/scannet/ssfm/scene0707_00/photos/604.jpg', '../../data/scannet/ssfm/scene0707_00/photos/605.jpg', '../../data/scannet/ssfm/scene0707_00/photos/611.jpg', '../../data/scannet/ssfm/scene0707_00/photos/614.jpg', '../../data/scannet/ssfm/scene0707_00/photos/615.jpg', '../../data/scannet/ssfm/scene0707_00/photos/617.jpg', '../../data/scannet/ssfm/scene0707_00/photos/619.jpg', '../../data/scannet/ssfm/scene0707_00/photos/620.jpg', '../../data/scannet/ssfm/scene0707_00/photos/621.jpg', '../../data/scannet/ssfm/scene0707_00/photos/624.jpg', '../../data/scannet/ssfm/scene0707_00/photos/628.jpg', '../../data/scannet/ssfm/scene0707_00/photos/629.jpg', '../../data/scannet/ssfm/scene0707_00/photos/630.jpg', '../../data/scannet/ssfm/scene0707_00/photos/631.jpg', '../../data/scannet/ssfm/scene0707_00/photos/635.jpg', '../../data/scannet/ssfm/scene0707_00/photos/636.jpg', '../../data/scannet/ssfm/scene0707_00/photos/639.jpg', '../../data/scannet/ssfm/scene0707_00/photos/640.jpg', '../../data/scannet/ssfm/scene0707_00/photos/641.jpg', '../../data/scannet/ssfm/scene0707_00/photos/643.jpg', '../../data/scannet/ssfm/scene0707_00/photos/644.jpg', '../../data/scannet/ssfm/scene0707_00/photos/648.jpg', '../../data/scannet/ssfm/scene0707_00/photos/649.jpg', '../../data/scannet/ssfm/scene0707_00/photos/650.jpg', '../../data/scannet/ssfm/scene0707_00/photos/651.jpg', '../../data/scannet/ssfm/scene0707_00/photos/655.jpg', '../../data/scannet/ssfm/scene0707_00/photos/656.jpg', '../../data/scannet/ssfm/scene0707_00/photos/660.jpg', '../../data/scannet/ssfm/scene0707_00/photos/662.jpg', '../../data/scannet/ssfm/scene0707_00/photos/664.jpg', '../../data/scannet/ssfm/scene0707_00/photos/665.jpg', '../../data/scannet/ssfm/scene0707_00/photos/666.jpg', '../../data/scannet/ssfm/scene0707_00/photos/669.jpg', '../../data/scannet/ssfm/scene0707_00/photos/670.jpg', '../../data/scannet/ssfm/scene0707_00/photos/672.jpg', '../../data/scannet/ssfm/scene0707_00/photos/674.jpg', '../../data/scannet/ssfm/scene0707_00/photos/676.jpg', '../../data/scannet/ssfm/scene0707_00/photos/678.jpg', '../../data/scannet/ssfm/scene0707_00/photos/679.jpg', '../../data/scannet/ssfm/scene0707_00/photos/683.jpg', '../../data/scannet/ssfm/scene0707_00/photos/684.jpg', '../../data/scannet/ssfm/scene0707_00/photos/688.jpg', '../../data/scannet/ssfm/scene0707_00/photos/689.jpg', '../../data/scannet/ssfm/scene0707_00/photos/690.jpg', '../../data/scannet/ssfm/scene0707_00/photos/692.jpg', '../../data/scannet/ssfm/scene0707_00/photos/695.jpg', '../../data/scannet/ssfm/scene0707_00/photos/698.jpg', '../../data/scannet/ssfm/scene0707_00/photos/700.jpg', '../../data/scannet/ssfm/scene0707_00/photos/702.jpg', '../../data/scannet/ssfm/scene0707_00/photos/704.jpg', '../../data/scannet/ssfm/scene0707_00/photos/705.jpg', '../../data/scannet/ssfm/scene0707_00/photos/706.jpg', '../../data/scannet/ssfm/scene0707_00/photos/708.jpg', '../../data/scannet/ssfm/scene0707_00/photos/709.jpg', '../../data/scannet/ssfm/scene0707_00/photos/710.jpg', '../../data/scannet/ssfm/scene0707_00/photos/711.jpg', '../../data/scannet/ssfm/scene0707_00/photos/714.jpg', '../../data/scannet/ssfm/scene0707_00/photos/715.jpg', '../../data/scannet/ssfm/scene0707_00/photos/716.jpg', '../../data/scannet/ssfm/scene0707_00/photos/719.jpg', '../../data/scannet/ssfm/scene0707_00/photos/721.jpg', '../../data/scannet/ssfm/scene0707_00/photos/724.jpg', '../../data/scannet/ssfm/scene0707_00/photos/725.jpg', '../../data/scannet/ssfm/scene0707_00/photos/726.jpg', '../../data/scannet/ssfm/scene0707_00/photos/731.jpg', '../../data/scannet/ssfm/scene0707_00/photos/734.jpg', '../../data/scannet/ssfm/scene0707_00/photos/739.jpg', '../../data/scannet/ssfm/scene0707_00/photos/740.jpg', '../../data/scannet/ssfm/scene0707_00/photos/749.jpg', '../../data/scannet/ssfm/scene0707_00/photos/752.jpg', '../../data/scannet/ssfm/scene0707_00/photos/753.jpg', '../../data/scannet/ssfm/scene0707_00/photos/756.jpg', '../../data/scannet/ssfm/scene0707_00/photos/760.jpg', '../../data/scannet/ssfm/scene0707_00/photos/762.jpg', '../../data/scannet/ssfm/scene0707_00/photos/767.jpg', '../../data/scannet/ssfm/scene0707_00/photos/768.jpg', '../../data/scannet/ssfm/scene0707_00/photos/770.jpg', '../../data/scannet/ssfm/scene0707_00/photos/774.jpg', '../../data/scannet/ssfm/scene0707_00/photos/775.jpg', '../../data/scannet/ssfm/scene0707_00/photos/783.jpg']\n"
     ]
    }
   ],
   "source": [
    "using_keyimages = True\n",
    "\n",
    "if using_keyimages:\n",
    "    keyimages_path = os.path.join(scene_dir, 'associations', 'keyimages.yaml')\n",
    "    # read keyimages\n",
    "    with open(keyimages_path, 'r') as f:\n",
    "        keyimages = yaml.load(f, Loader=yaml.FullLoader)\n",
    "\n",
    "    # replace .npy with .jpg\n",
    "    images = [keyimage.replace('.npy', '.jpg') for keyimage in keyimages]\n",
    "    # sort images based on the values of keyimages in file names\n",
    "    images = sorted(images, key=lambda x: int(x.split('_')[-1].split('.')[0]))\n",
    "    image_paths = [os.path.join(scene_dir, 'photos', image) for image in images]\n",
    "\n",
    "else:\n",
    "    image_paths = [os.path.join(scene_dir, 'photos', image) for image in os.listdir(os.path.join(scene_dir, 'photos'))]\n",
    "    # sort images based on the values of keyimages in file names\n",
    "    image_paths = sorted(image_paths, key=lambda x: int(x.split('_')[-1].split('.')[0]))\n",
    "\n",
    "print(image_paths)"
   ]
  },
  {
   "cell_type": "code",
   "execution_count": 35,
   "metadata": {},
   "outputs": [
    {
     "name": "stdout",
     "output_type": "stream",
     "text": [
      "Processing image 1/244.\n",
      "Processing image 2/244.\n",
      "Processing image 3/244.\n",
      "Processing image 4/244.\n",
      "Processing image 5/244.\n",
      "Processing image 6/244.\n",
      "Processing image 7/244.\n",
      "Processing image 8/244.\n",
      "Processing image 9/244.\n",
      "Processing image 10/244.\n",
      "Processing image 11/244.\n",
      "Processing image 12/244.\n",
      "Processing image 13/244.\n",
      "Processing image 14/244.\n",
      "Processing image 15/244.\n",
      "Processing image 16/244.\n",
      "Processing image 17/244.\n",
      "Processing image 18/244.\n",
      "Processing image 19/244.\n",
      "Processing image 20/244.\n",
      "Processing image 21/244.\n",
      "Processing image 22/244.\n",
      "Processing image 23/244.\n",
      "Processing image 24/244.\n",
      "Processing image 25/244.\n",
      "Processing image 26/244.\n",
      "Processing image 27/244.\n",
      "Processing image 28/244.\n",
      "Processing image 29/244.\n",
      "Processing image 30/244.\n",
      "Processing image 31/244.\n",
      "Processing image 32/244.\n",
      "Processing image 33/244.\n",
      "Processing image 34/244.\n",
      "Processing image 35/244.\n",
      "Processing image 36/244.\n",
      "Processing image 37/244.\n",
      "Processing image 38/244.\n",
      "Processing image 39/244.\n",
      "Processing image 40/244.\n",
      "Processing image 41/244.\n",
      "Processing image 42/244.\n",
      "Processing image 43/244.\n",
      "Processing image 44/244.\n",
      "Processing image 45/244.\n",
      "Processing image 46/244.\n",
      "Processing image 47/244.\n",
      "Processing image 48/244.\n",
      "Processing image 49/244.\n",
      "Processing image 50/244.\n",
      "Processing image 51/244.\n",
      "Processing image 52/244.\n",
      "Processing image 53/244.\n",
      "Processing image 54/244.\n",
      "Processing image 55/244.\n",
      "Processing image 56/244.\n",
      "Processing image 57/244.\n",
      "Processing image 58/244.\n",
      "Processing image 59/244.\n",
      "Processing image 60/244.\n",
      "Processing image 61/244.\n",
      "Processing image 62/244.\n",
      "Processing image 63/244.\n",
      "Processing image 64/244.\n",
      "Processing image 65/244.\n",
      "Processing image 66/244.\n",
      "Processing image 67/244.\n",
      "Processing image 68/244.\n",
      "Processing image 69/244.\n",
      "Processing image 70/244.\n",
      "Processing image 71/244.\n",
      "Processing image 72/244.\n",
      "Processing image 73/244.\n",
      "Processing image 74/244.\n",
      "Processing image 75/244.\n",
      "Processing image 76/244.\n",
      "Processing image 77/244.\n",
      "Processing image 78/244.\n",
      "Processing image 79/244.\n",
      "Processing image 80/244.\n",
      "Processing image 81/244.\n",
      "Processing image 82/244.\n",
      "Processing image 83/244.\n",
      "Processing image 84/244.\n",
      "Processing image 85/244.\n",
      "Processing image 86/244.\n",
      "Processing image 87/244.\n",
      "Processing image 88/244.\n",
      "Processing image 89/244.\n",
      "Processing image 90/244.\n",
      "Processing image 91/244.\n",
      "Processing image 92/244.\n",
      "Processing image 93/244.\n",
      "Processing image 94/244.\n",
      "Processing image 95/244.\n",
      "Processing image 96/244.\n",
      "Processing image 97/244.\n",
      "Processing image 98/244.\n",
      "Processing image 99/244.\n",
      "Processing image 100/244.\n",
      "Processing image 101/244.\n",
      "Processing image 102/244.\n",
      "Processing image 103/244.\n",
      "Processing image 104/244.\n",
      "Processing image 105/244.\n",
      "Processing image 106/244.\n",
      "Processing image 107/244.\n",
      "Processing image 108/244.\n",
      "Processing image 109/244.\n",
      "Processing image 110/244.\n",
      "Processing image 111/244.\n",
      "Processing image 112/244.\n",
      "Processing image 113/244.\n",
      "Processing image 114/244.\n",
      "Processing image 115/244.\n",
      "Processing image 116/244.\n",
      "Processing image 117/244.\n",
      "Processing image 118/244.\n",
      "Processing image 119/244.\n",
      "Processing image 120/244.\n",
      "Processing image 121/244.\n",
      "Processing image 122/244.\n",
      "Processing image 123/244.\n",
      "Processing image 124/244.\n",
      "Processing image 125/244.\n",
      "Processing image 126/244.\n",
      "Processing image 127/244.\n",
      "Processing image 128/244.\n",
      "Processing image 129/244.\n",
      "Processing image 130/244.\n",
      "Processing image 131/244.\n",
      "Processing image 132/244.\n",
      "Processing image 133/244.\n",
      "Processing image 134/244.\n",
      "Processing image 135/244.\n",
      "Processing image 136/244.\n",
      "Processing image 137/244.\n",
      "Processing image 138/244.\n",
      "Processing image 139/244.\n",
      "Processing image 140/244.\n",
      "Processing image 141/244.\n",
      "Processing image 142/244.\n",
      "Processing image 143/244.\n",
      "Processing image 144/244.\n",
      "Processing image 145/244.\n",
      "Processing image 146/244.\n",
      "Processing image 147/244.\n",
      "Processing image 148/244.\n",
      "Processing image 149/244.\n",
      "Processing image 150/244.\n",
      "Processing image 151/244.\n",
      "Processing image 152/244.\n",
      "Processing image 153/244.\n",
      "Processing image 154/244.\n",
      "Processing image 155/244.\n",
      "Processing image 156/244.\n",
      "Processing image 157/244.\n",
      "Processing image 158/244.\n",
      "Processing image 159/244.\n",
      "Processing image 160/244.\n",
      "Processing image 161/244.\n",
      "Processing image 162/244.\n",
      "Processing image 163/244.\n",
      "Processing image 164/244.\n",
      "Processing image 165/244.\n",
      "Processing image 166/244.\n",
      "Processing image 167/244.\n",
      "Processing image 168/244.\n",
      "Processing image 169/244.\n",
      "Processing image 170/244.\n",
      "Processing image 171/244.\n",
      "Processing image 172/244.\n",
      "Processing image 173/244.\n",
      "Processing image 174/244.\n",
      "Processing image 175/244.\n",
      "Processing image 176/244.\n",
      "Processing image 177/244.\n",
      "Processing image 178/244.\n",
      "Processing image 179/244.\n",
      "Processing image 180/244.\n",
      "Processing image 181/244.\n",
      "Processing image 182/244.\n",
      "Processing image 183/244.\n",
      "Processing image 184/244.\n",
      "Processing image 185/244.\n",
      "Processing image 186/244.\n",
      "Processing image 187/244.\n",
      "Processing image 188/244.\n",
      "Processing image 189/244.\n",
      "Processing image 190/244.\n",
      "Processing image 191/244.\n",
      "Processing image 192/244.\n",
      "Processing image 193/244.\n",
      "Processing image 194/244.\n",
      "Processing image 195/244.\n",
      "Processing image 196/244.\n",
      "Processing image 197/244.\n",
      "Processing image 198/244.\n",
      "Processing image 199/244.\n",
      "Processing image 200/244.\n",
      "Processing image 201/244.\n",
      "Processing image 202/244.\n",
      "Processing image 203/244.\n",
      "Processing image 204/244.\n",
      "Processing image 205/244.\n",
      "Processing image 206/244.\n",
      "Processing image 207/244.\n",
      "Processing image 208/244.\n",
      "Processing image 209/244.\n",
      "Processing image 210/244.\n",
      "Processing image 211/244.\n",
      "Processing image 212/244.\n",
      "Processing image 213/244.\n",
      "Processing image 214/244.\n",
      "Processing image 215/244.\n",
      "Processing image 216/244.\n",
      "Processing image 217/244.\n",
      "Processing image 218/244.\n",
      "Processing image 219/244.\n",
      "Processing image 220/244.\n",
      "Processing image 221/244.\n",
      "Processing image 222/244.\n",
      "Processing image 223/244.\n",
      "Processing image 224/244.\n",
      "Processing image 225/244.\n",
      "Processing image 226/244.\n",
      "Processing image 227/244.\n",
      "Processing image 228/244.\n",
      "Processing image 229/244.\n",
      "Processing image 230/244.\n",
      "Processing image 231/244.\n",
      "Processing image 232/244.\n",
      "Processing image 233/244.\n",
      "Processing image 234/244.\n",
      "Processing image 235/244.\n",
      "Processing image 236/244.\n",
      "Processing image 237/244.\n",
      "Processing image 238/244.\n",
      "Processing image 239/244.\n",
      "Processing image 240/244.\n",
      "Processing image 241/244.\n",
      "Processing image 242/244.\n",
      "Processing image 243/244.\n",
      "Processing image 244/244.\n"
     ]
    }
   ],
   "source": [
    "image_segmentor = ImageSegmentation(sam_params)   \n",
    "#image_segmentor.set_distortion_correction('../data/courtright/SfM_products/agisoft_cameras.xml')\n",
    "segmentations_folder_path = os.path.join(scene_dir, 'segmentations')\n",
    "image_segmentor.batch_predict(image_paths, segmentations_folder_path, maximum_size=10000, save_overlap=True)"
   ]
  },
  {
   "cell_type": "markdown",
   "metadata": {},
   "source": [
    "### 4. Create projection associations"
   ]
  },
  {
   "cell_type": "code",
   "execution_count": 1,
   "metadata": {},
   "outputs": [],
   "source": [
    "from ssfm.probabilistic_projection import *\n",
    "import os\n",
    "import yaml"
   ]
  },
  {
   "cell_type": "code",
   "execution_count": 11,
   "metadata": {},
   "outputs": [],
   "source": [
    "pointcloud_projector = PointcloudProjection(depth_filtering_threshold=0.005)\n",
    "pointcloud_projector.read_scannet_camera_parameters(scene_dir)\n",
    "mesh_file_path = os.path.join(scene_dir, 'reconstructions', 'mesh_vertices_color.npy')\n",
    "pointcloud_projector.read_scannet_mesh(mesh_file_path)"
   ]
  },
  {
   "cell_type": "code",
   "execution_count": 12,
   "metadata": {},
   "outputs": [],
   "source": [
    "assert os.path.exists(keyimages_path), 'Keyimages not found'\n",
    "\n",
    "with open(keyimages_path, 'r') as f:\n",
    "    keyimages = yaml.safe_load(f)\n",
    "\n",
    "# replace .npy with .jpg in keyimages, keyimages is a list of strings\n",
    "image_list = [os.path.splitext(image)[0] + '.jpg' for image in keyimages]"
   ]
  },
  {
   "cell_type": "code",
   "execution_count": 10,
   "metadata": {},
   "outputs": [
    {
     "name": "stderr",
     "output_type": "stream",
     "text": [
      "Processing frames: 100%|██████████| 133/133 [00:07<00:00, 16.71it/s]\n"
     ]
    }
   ],
   "source": [
    "#pointcloud_projector.parallel_batch_project(image_list, save_folder_path)\n",
    "pointcloud_projector.parallel_batch_project_joblib(image_list, associations_folder_path, num_workers=16, save_depth=False)"
   ]
  },
  {
   "cell_type": "code",
   "execution_count": 13,
   "metadata": {},
   "outputs": [],
   "source": [
    "# build keyimage associations\n",
    "from ssfm.keyimage_associations_builder import *"
   ]
  },
  {
   "cell_type": "code",
   "execution_count": 12,
   "metadata": {},
   "outputs": [
    {
     "name": "stderr",
     "output_type": "stream",
     "text": [
      "100%|██████████| 277/277 [00:01<00:00, 187.59it/s]\n"
     ]
    }
   ],
   "source": [
    "smc_solver = KeyimageAssociationsBuilder(associations_folder_path, segmentations_folder_path)\n",
    "smc_solver.build_associations()"
   ]
  },
  {
   "cell_type": "code",
   "execution_count": 13,
   "metadata": {},
   "outputs": [
    {
     "name": "stdout",
     "output_type": "stream",
     "text": [
      "| Metric                                                       | Count      | Percentage           |\n",
      "----------------------------------------------------------------------------------------------------\n",
      "| Number of points not covered by any image                    | 12442      | 9.26                 |\n",
      "| Number of points covered by less than or equal to 1 image    | 22628      | 16.84                |\n",
      "| Number of points covered by less than or equal to 3 images   | 38236      | 28.46                |\n",
      "| Number of points covered by less than or equal to 5 images   | 50937      | 37.91                |\n"
     ]
    }
   ],
   "source": [
    "smc_solver.find_min_cover()"
   ]
  },
  {
   "cell_type": "markdown",
   "metadata": {},
   "source": [
    "### 5. Estimate memory usage"
   ]
  },
  {
   "cell_type": "code",
   "execution_count": 1,
   "metadata": {},
   "outputs": [],
   "source": [
    "from ssfm.memory_calculator import memory_calculator"
   ]
  },
  {
   "cell_type": "code",
   "execution_count": 16,
   "metadata": {},
   "outputs": [
    {
     "name": "stdout",
     "output_type": "stream",
     "text": [
      "+----------------------------------------+-----------------------+\n",
      "|              Memory Type               |  Memory Required (GB) |\n",
      "+----------------------------------------+-----------------------+\n",
      "|      Segmentation for each image       |  0.002336740493774414 |\n",
      "| Pixel2point association for each image |  0.004673480987548828 |\n",
      "| Point2pixel association for each image | 0.0005005300045013428 |\n",
      "|                                        |                       |\n",
      "|      Segmentation for all images       |   4.673480987548828   |\n",
      "| Pixel2point association for all images |   9.346961975097656   |\n",
      "| Point2pixel association for all images |   1.0010600090026855  |\n",
      "|          pc_segmentation_ids           |  0.002502650022506714 |\n",
      "|         pc_segmentation_probs          |  0.002502650022506714 |\n",
      "|          keyimage_association          |   0.2502650022506714  |\n",
      "|                 Total                  |   15.276773273944855  |\n",
      "+----------------------------------------+-----------------------+\n"
     ]
    }
   ],
   "source": [
    "# pointcloud file\n",
    "npy_file = mesh_file_path\n",
    "# image file sample\n",
    "image_file = os.path.join(photos_folder_path, image_list[0])\n",
    "# number of images\n",
    "num_images = len(image_list)\n",
    "# number of segmentation ids for each point in the point cloud\n",
    "num_segmentation_ids = 5\n",
    "\n",
    "memory_calculator(npy_file, image_file, num_images, num_segmentation_ids)"
   ]
  },
  {
   "cell_type": "markdown",
   "metadata": {},
   "source": [
    "### 6. Run object registration"
   ]
  },
  {
   "cell_type": "code",
   "execution_count": 1,
   "metadata": {},
   "outputs": [],
   "source": [
    "from ssfm.object_registration import *\n",
    "from ssfm.post_processing import *"
   ]
  },
  {
   "cell_type": "code",
   "execution_count": 7,
   "metadata": {},
   "outputs": [],
   "source": [
    "pointcloud_path = os.path.join(scene_dir, 'reconstructions', 'mesh_vertices_color.npy')\n",
    "segmentations_folder_path = os.path.join(scene_dir, 'segmentations')\n",
    "\n",
    "keyimage_associations_file_name = 'associations_keyimage.npy'\n",
    "keyimage_yaml_name = 'keyimages.yaml'"
   ]
  },
  {
   "cell_type": "code",
   "execution_count": 48,
   "metadata": {},
   "outputs": [
    {
     "name": "stdout",
     "output_type": "stream",
     "text": [
      "Processing image 1/244: 0.npy\n",
      "Processing image 2/244: 100.npy\n",
      "Processing image 3/244: 104.npy\n",
      "Processing image 4/244: 105.npy\n",
      "Processing image 5/244: 109.npy\n",
      "Processing image 6/244: 11.npy\n",
      "Processing image 7/244: 111.npy\n",
      "Processing image 8/244: 112.npy\n",
      "Processing image 9/244: 115.npy\n",
      "Processing image 10/244: 117.npy\n",
      "Processing image 11/244: 121.npy\n",
      "Processing image 12/244: 122.npy\n",
      "Processing image 13/244: 126.npy\n",
      "Processing image 14/244: 128.npy\n",
      "Processing image 15/244: 130.npy\n",
      "Processing image 16/244: 134.npy\n",
      "Processing image 17/244: 135.npy\n",
      "Processing image 18/244: 137.npy\n",
      "Processing image 19/244: 14.npy\n",
      "Processing image 20/244: 141.npy\n",
      "Processing image 21/244: 142.npy\n",
      "Processing image 22/244: 145.npy\n",
      "Processing image 23/244: 149.npy\n",
      "Processing image 24/244: 15.npy\n",
      "Processing image 25/244: 150.npy\n",
      "Processing image 26/244: 152.npy\n",
      "Processing image 27/244: 155.npy\n",
      "Processing image 28/244: 159.npy\n",
      "Processing image 29/244: 161.npy\n",
      "Processing image 30/244: 163.npy\n",
      "Processing image 31/244: 166.npy\n",
      "Processing image 32/244: 169.npy\n",
      "Processing image 33/244: 171.npy\n",
      "Processing image 34/244: 174.npy\n",
      "Processing image 35/244: 176.npy\n",
      "Processing image 36/244: 179.npy\n",
      "Processing image 37/244: 181.npy\n",
      "Processing image 38/244: 184.npy\n",
      "Processing image 39/244: 186.npy\n",
      "Processing image 40/244: 187.npy\n",
      "Processing image 41/244: 19.npy\n",
      "Processing image 42/244: 190.npy\n",
      "Processing image 43/244: 192.npy\n",
      "Processing image 44/244: 195.npy\n",
      "Processing image 45/244: 197.npy\n",
      "Processing image 46/244: 2.npy\n",
      "Processing image 47/244: 200.npy\n",
      "Processing image 48/244: 202.npy\n",
      "Processing image 49/244: 205.npy\n",
      "Processing image 50/244: 207.npy\n",
      "Processing image 51/244: 21.npy\n",
      "Processing image 52/244: 210.npy\n",
      "Processing image 53/244: 214.npy\n",
      "Processing image 54/244: 215.npy\n",
      "Processing image 55/244: 216.npy\n",
      "Processing image 56/244: 224.npy\n",
      "Processing image 57/244: 225.npy\n",
      "Processing image 58/244: 233.npy\n",
      "Processing image 59/244: 234.npy\n",
      "Processing image 60/244: 236.npy\n",
      "Processing image 61/244: 237.npy\n",
      "Processing image 62/244: 239.npy\n",
      "Processing image 63/244: 24.npy\n",
      "Processing image 64/244: 240.npy\n",
      "Processing image 65/244: 242.npy\n",
      "Processing image 66/244: 244.npy\n",
      "Processing image 67/244: 245.npy\n",
      "Processing image 68/244: 25.npy\n",
      "Processing image 69/244: 250.npy\n",
      "Processing image 70/244: 251.npy\n",
      "Processing image 71/244: 259.npy\n",
      "Processing image 72/244: 262.npy\n",
      "Processing image 73/244: 265.npy\n",
      "Processing image 74/244: 270.npy\n",
      "Processing image 75/244: 275.npy\n",
      "Processing image 76/244: 280.npy\n",
      "Processing image 77/244: 289.npy\n",
      "Processing image 78/244: 29.npy\n",
      "Processing image 79/244: 290.npy\n",
      "Processing image 80/244: 299.npy\n",
      "Processing image 81/244: 300.npy\n",
      "Processing image 82/244: 305.npy\n",
      "Processing image 83/244: 31.npy\n",
      "Processing image 84/244: 311.npy\n",
      "Processing image 85/244: 318.npy\n",
      "Processing image 86/244: 32.npy\n",
      "Processing image 87/244: 324.npy\n",
      "Processing image 88/244: 329.npy\n",
      "Processing image 89/244: 330.npy\n",
      "Processing image 90/244: 335.npy\n",
      "Processing image 91/244: 344.npy\n",
      "Processing image 92/244: 347.npy\n",
      "Processing image 93/244: 35.npy\n",
      "Processing image 94/244: 351.npy\n",
      "Processing image 95/244: 359.npy\n",
      "Processing image 96/244: 363.npy\n",
      "Processing image 97/244: 365.npy\n",
      "Processing image 98/244: 373.npy\n",
      "Processing image 99/244: 379.npy\n",
      "Processing image 100/244: 383.npy\n",
      "Processing image 101/244: 389.npy\n",
      "Processing image 102/244: 39.npy\n",
      "Processing image 103/244: 394.npy\n",
      "Processing image 104/244: 399.npy\n",
      "Processing image 105/244: 400.npy\n",
      "Processing image 106/244: 406.npy\n",
      "Processing image 107/244: 41.npy\n",
      "Processing image 108/244: 410.npy\n",
      "Processing image 109/244: 417.npy\n",
      "Processing image 110/244: 42.npy\n",
      "Processing image 111/244: 421.npy\n",
      "Processing image 112/244: 429.npy\n",
      "Processing image 113/244: 430.npy\n",
      "Processing image 114/244: 436.npy\n",
      "Processing image 115/244: 440.npy\n",
      "Processing image 116/244: 449.npy\n",
      "Processing image 117/244: 450.npy\n",
      "Processing image 118/244: 459.npy\n",
      "Processing image 119/244: 46.npy\n",
      "Processing image 120/244: 463.npy\n",
      "Processing image 121/244: 469.npy\n",
      "Processing image 122/244: 47.npy\n",
      "Processing image 123/244: 471.npy\n",
      "Processing image 124/244: 475.npy\n",
      "Processing image 125/244: 483.npy\n",
      "Processing image 126/244: 485.npy\n",
      "Processing image 127/244: 490.npy\n",
      "Processing image 128/244: 499.npy\n",
      "Processing image 129/244: 5.npy\n",
      "Processing image 130/244: 50.npy\n",
      "Processing image 131/244: 500.npy\n",
      "Processing image 132/244: 507.npy\n",
      "Processing image 133/244: 513.npy\n",
      "Processing image 134/244: 515.npy\n",
      "Processing image 135/244: 524.npy\n",
      "Processing image 136/244: 525.npy\n",
      "Processing image 137/244: 530.npy\n",
      "Processing image 138/244: 539.npy\n",
      "Processing image 139/244: 54.npy\n",
      "Processing image 140/244: 541.npy\n",
      "Processing image 141/244: 545.npy\n",
      "Processing image 142/244: 551.npy\n",
      "Processing image 143/244: 559.npy\n",
      "Processing image 144/244: 56.npy\n",
      "Processing image 145/244: 561.npy\n",
      "Processing image 146/244: 565.npy\n",
      "Processing image 147/244: 572.npy\n",
      "Processing image 148/244: 575.npy\n",
      "Processing image 149/244: 584.npy\n",
      "Processing image 150/244: 585.npy\n",
      "Processing image 151/244: 59.npy\n",
      "Processing image 152/244: 594.npy\n",
      "Processing image 153/244: 598.npy\n",
      "Processing image 154/244: 60.npy\n",
      "Processing image 155/244: 600.npy\n",
      "Processing image 156/244: 604.npy\n",
      "Processing image 157/244: 605.npy\n",
      "Processing image 158/244: 614.npy\n",
      "Processing image 159/244: 615.npy\n",
      "Processing image 160/244: 617.npy\n",
      "Processing image 161/244: 619.npy\n",
      "Processing image 162/244: 620.npy\n",
      "Processing image 163/244: 621.npy\n",
      "Processing image 164/244: 624.npy\n",
      "Processing image 165/244: 628.npy\n",
      "Processing image 166/244: 629.npy\n",
      "Processing image 167/244: 630.npy\n",
      "Processing image 168/244: 631.npy\n",
      "Processing image 169/244: 635.npy\n",
      "Processing image 170/244: 636.npy\n",
      "Processing image 171/244: 639.npy\n",
      "Processing image 172/244: 64.npy\n",
      "Processing image 173/244: 640.npy\n",
      "Processing image 174/244: 643.npy\n",
      "Processing image 175/244: 644.npy\n",
      "Processing image 176/244: 648.npy\n",
      "Processing image 177/244: 649.npy\n",
      "Processing image 178/244: 65.npy\n",
      "Processing image 179/244: 650.npy\n",
      "Processing image 180/244: 651.npy\n",
      "Processing image 181/244: 655.npy\n",
      "Processing image 182/244: 656.npy\n",
      "Processing image 183/244: 660.npy\n",
      "Processing image 184/244: 662.npy\n",
      "Processing image 185/244: 664.npy\n",
      "Processing image 186/244: 665.npy\n",
      "Processing image 187/244: 666.npy\n",
      "Processing image 188/244: 669.npy\n",
      "Processing image 189/244: 67.npy\n",
      "Processing image 190/244: 670.npy\n",
      "Processing image 191/244: 672.npy\n",
      "Processing image 192/244: 674.npy\n",
      "Processing image 193/244: 676.npy\n",
      "Processing image 194/244: 679.npy\n",
      "Processing image 195/244: 683.npy\n",
      "Processing image 196/244: 684.npy\n",
      "Processing image 197/244: 688.npy\n",
      "Processing image 198/244: 689.npy\n",
      "Processing image 199/244: 690.npy\n",
      "Processing image 200/244: 692.npy\n",
      "Processing image 201/244: 695.npy\n",
      "Processing image 202/244: 698.npy\n",
      "Processing image 203/244: 7.npy\n",
      "Processing image 204/244: 70.npy\n",
      "Processing image 205/244: 700.npy\n",
      "Processing image 206/244: 702.npy\n",
      "Processing image 207/244: 704.npy\n",
      "Processing image 208/244: 705.npy\n",
      "Processing image 209/244: 706.npy\n",
      "Processing image 210/244: 709.npy\n",
      "Processing image 211/244: 710.npy\n",
      "Processing image 212/244: 711.npy\n",
      "Processing image 213/244: 714.npy\n",
      "Processing image 214/244: 715.npy\n",
      "Processing image 215/244: 716.npy\n",
      "Processing image 216/244: 719.npy\n",
      "Processing image 217/244: 721.npy\n",
      "Processing image 218/244: 724.npy\n",
      "Processing image 219/244: 725.npy\n",
      "Processing image 220/244: 726.npy\n",
      "Processing image 221/244: 73.npy\n",
      "Processing image 222/244: 731.npy\n",
      "Processing image 223/244: 734.npy\n",
      "Processing image 224/244: 739.npy\n",
      "Processing image 225/244: 740.npy\n",
      "Processing image 226/244: 749.npy\n",
      "Processing image 227/244: 75.npy\n",
      "Processing image 228/244: 752.npy\n",
      "Processing image 229/244: 753.npy\n",
      "Processing image 230/244: 756.npy\n",
      "Processing image 231/244: 760.npy\n",
      "Processing image 232/244: 767.npy\n",
      "Processing image 233/244: 770.npy\n",
      "Processing image 234/244: 775.npy\n",
      "Processing image 235/244: 783.npy\n",
      "Processing image 236/244: 79.npy\n",
      "Processing image 237/244: 81.npy\n",
      "Processing image 238/244: 82.npy\n",
      "Processing image 239/244: 85.npy\n",
      "Processing image 240/244: 89.npy\n",
      "Processing image 241/244: 91.npy\n",
      "Processing image 242/244: 93.npy\n",
      "Processing image 243/244: 95.npy\n",
      "Processing image 244/244: 97.npy\n"
     ]
    }
   ],
   "source": [
    "# Create object registration\n",
    "obr = ObjectRegistration(pointcloud_path, segmentations_folder_path, associations_folder_path, keyimage_associations_file_name=keyimage_associations_file_name, keyimage_yaml_name=keyimage_yaml_name)\n",
    "\n",
    "# Run object registration\n",
    "obr.object_registration(iou_threshold=0.5, save_semantics=True)\n",
    "\n",
    "\n",
    "# save semantic point cloud\n",
    "save_path = os.path.join(scene_dir, 'semantic_model.las')\n",
    "obr.save_semantic_pointcloud(save_path)"
   ]
  },
  {
   "cell_type": "code",
   "execution_count": 8,
   "metadata": {},
   "outputs": [
    {
     "name": "stdout",
     "output_type": "stream",
     "text": [
      "maximum of semantics:  8558\n",
      "number of unique semantics:  389\n"
     ]
    }
   ],
   "source": [
    "image_id = 243\n",
    "semantics_folder_path = os.path.join(associations_folder_path, 'semantics', 'semantics_{}.npy'.format(image_id))\n",
    "save_las_path = os.path.join(associations_folder_path, 'semantics', 'semantics_{}.las'.format(image_id))\n",
    "add_semantics_to_pointcloud(pointcloud_path, semantics_folder_path, save_las_path) "
   ]
  },
  {
   "cell_type": "code",
   "execution_count": 9,
   "metadata": {},
   "outputs": [
    {
     "name": "stdout",
     "output_type": "stream",
     "text": [
      "Number of unique semantics:  389\n"
     ]
    }
   ],
   "source": [
    "semantic_pc_file_path = save_las_path\n",
    "post_processing = PostProcessing(semantic_pc_file_path)\n",
    "post_processing.shuffle_semantic_ids()\n",
    "save_las_path = os.path.join(associations_folder_path, 'semantics', 'semantics_{}_shuffled.las'.format(image_id))\n",
    "post_processing.save_semantic_pointcloud(save_las_path)"
   ]
  },
  {
   "cell_type": "code",
   "execution_count": null,
   "metadata": {},
   "outputs": [],
   "source": []
  }
 ],
 "metadata": {
  "kernelspec": {
   "display_name": "Python 3",
   "language": "python",
   "name": "python3"
  },
  "language_info": {
   "codemirror_mode": {
    "name": "ipython",
    "version": 3
   },
   "file_extension": ".py",
   "mimetype": "text/x-python",
   "name": "python",
   "nbconvert_exporter": "python",
   "pygments_lexer": "ipython3",
   "version": "3.6.8"
  }
 },
 "nbformat": 4,
 "nbformat_minor": 2
}
