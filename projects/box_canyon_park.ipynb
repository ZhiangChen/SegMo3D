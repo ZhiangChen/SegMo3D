{
 "cells": [
  {
   "cell_type": "markdown",
   "metadata": {},
   "source": [
    "# Box Canyon Park \n",
    "\n",
    "https://www.google.com/maps/place/Box+Canyon+Park/@33.8857385,-117.7309815,910m/data=!3m2!1e3!4b1!4m6!3m5!1s0x80dcce2292288e59:0xc1684d99397ec327!8m2!3d33.8857385!4d-117.7284066!16s%2Fg%2F1tm8kwym?entry=ttu"
   ]
  },
  {
   "cell_type": "markdown",
   "metadata": {},
   "source": [
    "## 1. Organize data\n",
    "\n",
    "Create a folder under `semantic_SfM/data` and organize your data following the structures below. \n",
    "\n",
    "Using SfM products from Agisoft:\n",
    "```\n",
    "semantic_SfM/data\n",
    "    ├── box_canyon_park\n",
    "        ├── DJI_photos\n",
    "        │       ├── DJI_0000.JPG\n",
    "        │       ├── DJI_0001.JPG\n",
    "        │       ├── ...\n",
    "        │       └── DJI_0100.JPG\n",
    "        ├── SfM_products\n",
    "        │       ├── agisoft_cameras.xml\n",
    "        │       ├── model.jpg\n",
    "        │       ├── model.obj\n",
    "        │       ├── model.mtl\n",
    "        │       └── agisoft_model.las   \n",
    "        ├── segmentations\n",
    "        └── associations\n",
    "\n",
    "```"
   ]
  },
  {
   "cell_type": "markdown",
   "metadata": {},
   "source": [
    "## 2. Estimate memory usage"
   ]
  },
  {
   "cell_type": "code",
   "execution_count": 1,
   "metadata": {},
   "outputs": [],
   "source": [
    "from ssfm.memory_calculator import memory_calculator"
   ]
  },
  {
   "cell_type": "code",
   "execution_count": 2,
   "metadata": {},
   "outputs": [
    {
     "name": "stdout",
     "output_type": "stream",
     "text": [
      "+----------------------------------------+----------------------+\n",
      "|              Memory Type               | Memory Required (GB) |\n",
      "+----------------------------------------+----------------------+\n",
      "|      Segmentation for each image       | 0.037181854248046875 |\n",
      "| Pixel2point association for each image | 0.07436370849609375  |\n",
      "| Point2pixel association for each image | 0.17169087380170822  |\n",
      "|                                        |                      |\n",
      "|      Segmentation for all images       |  4.796459197998047   |\n",
      "| Pixel2point association for all images |  9.592918395996094   |\n",
      "| Point2pixel association for all images |  22.14812272042036   |\n",
      "|          pc_segmentation_ids           |  0.8584543690085411  |\n",
      "|         pc_segmentation_probs          |  0.8584543690085411  |\n",
      "|          keyimage_association          |   5.53703068010509   |\n",
      "|                 Total                  |  43.79143973253667   |\n",
      "+----------------------------------------+----------------------+\n"
     ]
    }
   ],
   "source": [
    "# pointcloud file\n",
    "las_file = \"../data/box_canyon_park/SfM_products/agisoft_model.las\"\n",
    "# image file sample\n",
    "image_file = \"../data/box_canyon_park/DJI_photos/DJI_0350.JPG\"\n",
    "# number of images\n",
    "num_images = 129\n",
    "# number of segmentation ids for each point in the point cloud\n",
    "num_segmentation_ids = 5\n",
    "\n",
    "memory_calculator(las_file, image_file, num_images, num_segmentation_ids)"
   ]
  },
  {
   "cell_type": "markdown",
   "metadata": {},
   "source": [
    "## 3. Create 2D Segmentation using SAM"
   ]
  },
  {
   "cell_type": "code",
   "execution_count": null,
   "metadata": {},
   "outputs": [],
   "source": [
    "from ssfm.image_segmentation import ImageSegmentation\n",
    "import os"
   ]
  },
  {
   "cell_type": "code",
   "execution_count": null,
   "metadata": {},
   "outputs": [],
   "source": [
    "sam_params = {}\n",
    "sam_params['model_name'] = 'sam'\n",
    "sam_params['model_path'] = '../semantic_SfM/sam/sam_vit_h_4b8939.pth'\n",
    "sam_params['model_type'] = 'vit_h'\n",
    "sam_params['device'] = 'cuda:1'\n",
    "sam_params['points_per_side'] = 64\n",
    "sam_params['pred_iou_thresh'] = 0.96\n",
    "sam_params['stability_score_thresh'] = 0.92"
   ]
  },
  {
   "cell_type": "code",
   "execution_count": null,
   "metadata": {},
   "outputs": [],
   "source": [
    "image_segmentor = ImageSegmentation(sam_params)   \n",
    "image_folder_path = '../data/box_canyon_park/DJI_photos'\n",
    "segmentation_folder_path = '../data/box_canyon_park/segmentations'\n",
    "image_paths = [os.path.join(image_folder_path, f) for f in os.listdir(image_folder_path) if f.endswith('.JPG')]\n",
    "image_segmentor.batch_predict(image_paths, segmentation_folder_path, maximum_size=1000, save_overlap=True)"
   ]
  },
  {
   "cell_type": "markdown",
   "metadata": {},
   "source": [
    "## 4. Create projection associations"
   ]
  },
  {
   "cell_type": "code",
   "execution_count": 1,
   "metadata": {},
   "outputs": [],
   "source": [
    "from ssfm.probabilistic_projection import *\n",
    "import time"
   ]
  },
  {
   "cell_type": "code",
   "execution_count": 2,
   "metadata": {},
   "outputs": [],
   "source": [
    "pointcloud_projector = PointcloudProjection(depth_filtering_threshold=0.2)\n",
    "#pointcloud_projector = PointcloudProjection()"
   ]
  },
  {
   "cell_type": "code",
   "execution_count": 3,
   "metadata": {},
   "outputs": [],
   "source": [
    "\n",
    "pointcloud_projector.read_camera_parameters('../data/box_canyon_park/SfM_products/agisoft_cameras.xml')\n",
    "pointcloud_projector.read_mesh('../data/box_canyon_park/SfM_products/model.obj')\n",
    "pointcloud_projector.read_pointcloud('../data/box_canyon_park/SfM_products/agisoft_model.las')\n",
    "\n",
    "\n",
    "#pointcloud_projector.read_camera_parameters('../data/box_canyon_park/SfM_products/camera.json', '../data/box_canyon_park/SfM_products/shots.geojson')\n",
    "#pointcloud_projector.read_pointcloud('../data/box_canyon_park/SfM_products/model.las')"
   ]
  },
  {
   "cell_type": "code",
   "execution_count": 4,
   "metadata": {},
   "outputs": [
    {
     "name": "stderr",
     "output_type": "stream",
     "text": [
      "Processing frames: 100%|██████████| 129/129 [08:46<00:00,  4.08s/it]\n"
     ]
    }
   ],
   "source": [
    "# batch project\n",
    "image_folder_path = '../data/box_canyon_park/DJI_photos'\n",
    "save_folder_path = '../data/box_canyon_park/associations'\n",
    "\n",
    "image_list = [f for f in os.listdir(image_folder_path) if f.endswith('.JPG')]\n",
    "pointcloud_projector.parallel_batch_project_joblib(image_list, save_folder_path, num_workers=8)"
   ]
  },
  {
   "cell_type": "code",
   "execution_count": 5,
   "metadata": {},
   "outputs": [
    {
     "name": "stdout",
     "output_type": "stream",
     "text": [
      "Time for building keyimage associations:  592.4849562644958\n"
     ]
    }
   ],
   "source": [
    "# build keyimage associations\n",
    "t1 = time.time()\n",
    "pointcloud_projector.build_associations_keyimage('../data/box_canyon_park/associations', '../data/box_canyon_park/segmentations')\n",
    "t2 = time.time()\n",
    "print('Time for building keyimage associations: ', t2 - t1)"
   ]
  },
  {
   "cell_type": "markdown",
   "metadata": {},
   "source": [
    "## 5. Run object registration"
   ]
  },
  {
   "cell_type": "code",
   "execution_count": null,
   "metadata": {},
   "outputs": [],
   "source": [
    "from ssfm.object_registration import *\n",
    "from ssfm.post_processing import PostProcessing"
   ]
  },
  {
   "cell_type": "code",
   "execution_count": null,
   "metadata": {},
   "outputs": [],
   "source": [
    "# Set paths\n",
    "pointcloud_path = '../data/box_canyon_park/SfM_products/agisoft_model.las'\n",
    "segmentation_folder_path = '../data/box_canyon_park/segmentations'\n",
    "image_folder_path = '../data/box_canyon_park/DJI_photos'\n",
    "association_folder_path = '../data/box_canyon_park/associations'\n",
    "\n",
    "# Create object registration\n",
    "t1 = time.time()\n",
    "obr = ObjectRegistration(pointcloud_path, segmentation_folder_path, association_folder_path)\n",
    "t2 = time.time()\n",
    "print('Time elapsed for creating object registration: {}'.format(t2-t1))\n",
    "\n",
    "# Run object registration\n",
    "obr.object_registration(iou_threshold=0.5, save_semantics=True)\n",
    "#obr.object_registration(iou_threshold=0.5)\n",
    "\n",
    "# save semantic point cloud\n",
    "obr.save_semantic_pointcloud('../data/box_canyon_park/associations/semantic_model.las')"
   ]
  },
  {
   "cell_type": "code",
   "execution_count": null,
   "metadata": {},
   "outputs": [],
   "source": [
    "# shuffle semantic ids\n",
    "semantic_pc_file_path = '../../data/box_canyon_park/semantic_model.las'\n",
    "post_processing = PostProcessing(semantic_pc_file_path)\n",
    "post_processing.shuffle_semantic_ids()\n",
    "save_las_path = '../../data/box_canyon_park/semantic_model_shuffled.las'\n",
    "post_processing.save_semantic_pointcloud(save_las_path)"
   ]
  },
  {
   "cell_type": "code",
   "execution_count": null,
   "metadata": {},
   "outputs": [],
   "source": [
    "\n",
    "pointcloud_path = '../../data/box_canyon_park/SfM_products/agisoft_model.las'\n",
    "segmentation_folder_path = '../../data/box_canyon_park/segmentations'\n",
    "image_folder_path = '../../data/box_canyon_park/DJI_photos'\n",
    "association_folder_path = '../../data/box_canyon_park/associations'\n",
    "\n",
    "obr = ObjectRegistration(pointcloud_path, segmentation_folder_path, association_folder_path)\n",
    "\n",
    "add_semantics_to_pointcloud_flag = True\n",
    "if add_semantics_to_pointcloud_flag:\n",
    "    image_id = 128\n",
    "    semantics_folder_path = os.path.join(association_folder_path, 'semantics', 'semantics_{}.npy'.format(image_id))\n",
    "    save_las_path = os.path.join(association_folder_path, 'semantics', 'semantics_{}_depth_filter.las'.format(image_id))\n",
    "    add_semantics_to_pointcloud(pointcloud_path, semantics_folder_path, save_las_path) "
   ]
  }
 ],
 "metadata": {
  "kernelspec": {
   "display_name": "Python 3",
   "language": "python",
   "name": "python3"
  },
  "language_info": {
   "codemirror_mode": {
    "name": "ipython",
    "version": 3
   },
   "file_extension": ".py",
   "mimetype": "text/x-python",
   "name": "python",
   "nbconvert_exporter": "python",
   "pygments_lexer": "ipython3",
   "version": "3.6.8"
  }
 },
 "nbformat": 4,
 "nbformat_minor": 2
}
