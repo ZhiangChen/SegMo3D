{
 "cells": [
  {
   "cell_type": "markdown",
   "metadata": {},
   "source": [
    "# Box Canyon Park \n",
    "\n",
    "https://www.google.com/maps/place/Box+Canyon+Park/@33.8857385,-117.7309815,910m/data=!3m2!1e3!4b1!4m6!3m5!1s0x80dcce2292288e59:0xc1684d99397ec327!8m2!3d33.8857385!4d-117.7284066!16s%2Fg%2F1tm8kwym?entry=ttu"
   ]
  },
  {
   "cell_type": "markdown",
   "metadata": {},
   "source": [
    "## 1. Organize data\n",
    "\n",
    "Create a folder under `semantic_SfM/data` and organize your data following the structures below. \n",
    "\n",
    "Using SfM products from Agisoft:\n",
    "```\n",
    "semantic_SfM/data\n",
    "    ├── box_canyon_park\n",
    "        ├── DJI_photos\n",
    "        │       ├── DJI_0000.JPG\n",
    "        │       ├── DJI_0001.JPG\n",
    "        │       ├── ...\n",
    "        │       └── DJI_0100.JPG\n",
    "        ├── SfM_products\n",
    "        │       ├── agisoft_cameras.xml\n",
    "        │       ├── model.jpg\n",
    "        │       ├── model.obj\n",
    "        │       ├── model.mtl\n",
    "        │       └── agisoft_model.las   \n",
    "        ├── segmentations\n",
    "        └── associations\n",
    "\n",
    "```"
   ]
  },
  {
   "cell_type": "markdown",
   "metadata": {},
   "source": [
    "## 2. Estimate memory usage"
   ]
  },
  {
   "cell_type": "code",
   "execution_count": 1,
   "metadata": {},
   "outputs": [],
   "source": [
    "from ssfm.memory_calculator import memory_calculator"
   ]
  },
  {
   "cell_type": "code",
   "execution_count": 2,
   "metadata": {},
   "outputs": [
    {
     "name": "stdout",
     "output_type": "stream",
     "text": [
      "+----------------------------------------+----------------------+\n",
      "|              Memory Type               | Memory Required (GB) |\n",
      "+----------------------------------------+----------------------+\n",
      "|      Segmentation for each image       | 0.037181854248046875 |\n",
      "| Pixel2point association for each image | 0.07436370849609375  |\n",
      "| Point2pixel association for each image | 0.17169087380170822  |\n",
      "|                                        |                      |\n",
      "|      Segmentation for all images       |  4.796459197998047   |\n",
      "| Pixel2point association for all images |  9.592918395996094   |\n",
      "| Point2pixel association for all images |  22.14812272042036   |\n",
      "|          pc_segmentation_ids           |  0.8584543690085411  |\n",
      "|         pc_segmentation_probs          |  0.8584543690085411  |\n",
      "|          keyimage_association          |   5.53703068010509   |\n",
      "|                 Total                  |  43.79143973253667   |\n",
      "+----------------------------------------+----------------------+\n"
     ]
    }
   ],
   "source": [
    "# pointcloud file\n",
    "las_file = \"../data/box_canyon_park/SfM_products/agisoft_model.las\"\n",
    "# image file sample\n",
    "image_file = \"../data/box_canyon_park/DJI_photos/DJI_0350.JPG\"\n",
    "# number of images\n",
    "num_images = 129\n",
    "# number of segmentation ids for each point in the point cloud\n",
    "num_segmentation_ids = 5\n",
    "\n",
    "memory_calculator(las_file, image_file, num_images, num_segmentation_ids)"
   ]
  },
  {
   "cell_type": "markdown",
   "metadata": {},
   "source": [
    "## 3. Create 2D Segmentation using SAM"
   ]
  },
  {
   "cell_type": "code",
   "execution_count": 1,
   "metadata": {},
   "outputs": [],
   "source": [
    "from ssfm.image_segmentation import ImageSegmentation\n",
    "import os"
   ]
  },
  {
   "cell_type": "code",
   "execution_count": 2,
   "metadata": {},
   "outputs": [],
   "source": [
    "sam_params = {}\n",
    "sam_params['model_name'] = 'sam'\n",
    "sam_params['model_path'] = '../semantic_SfM/sam/sam_vit_h_4b8939.pth'\n",
    "sam_params['model_type'] = 'vit_h'\n",
    "sam_params['device'] = 'cuda:1'\n",
    "sam_params['points_per_side'] = 64\n",
    "sam_params['pred_iou_thresh'] = 0.96\n",
    "sam_params['stability_score_thresh'] = 0.92"
   ]
  },
  {
   "cell_type": "code",
   "execution_count": 3,
   "metadata": {},
   "outputs": [
    {
     "name": "stdout",
     "output_type": "stream",
     "text": [
      "Processing image 1/129.\n",
      "Processing image 2/129.\n",
      "Processing image 3/129.\n",
      "Processing image 4/129.\n",
      "Processing image 5/129.\n",
      "Processing image 6/129.\n",
      "Processing image 7/129.\n",
      "Processing image 8/129.\n",
      "Processing image 9/129.\n",
      "Processing image 10/129.\n",
      "Processing image 11/129.\n",
      "Processing image 12/129.\n",
      "Processing image 13/129.\n",
      "Processing image 14/129.\n",
      "Processing image 15/129.\n",
      "Processing image 16/129.\n",
      "Processing image 17/129.\n",
      "Processing image 18/129.\n",
      "Processing image 19/129.\n",
      "Processing image 20/129.\n",
      "Processing image 21/129.\n",
      "Processing image 22/129.\n",
      "Processing image 23/129.\n",
      "Processing image 24/129.\n",
      "Processing image 25/129.\n",
      "Processing image 26/129.\n",
      "Processing image 27/129.\n",
      "Processing image 28/129.\n",
      "Processing image 29/129.\n",
      "Processing image 30/129.\n",
      "Processing image 31/129.\n",
      "Processing image 32/129.\n",
      "Processing image 33/129.\n",
      "Processing image 34/129.\n",
      "Processing image 35/129.\n",
      "Processing image 36/129.\n",
      "Processing image 37/129.\n",
      "Processing image 38/129.\n",
      "Processing image 39/129.\n",
      "Processing image 40/129.\n",
      "Processing image 41/129.\n",
      "Processing image 42/129.\n",
      "Processing image 43/129.\n",
      "Processing image 44/129.\n",
      "Processing image 45/129.\n",
      "Processing image 46/129.\n",
      "Processing image 47/129.\n",
      "Processing image 48/129.\n",
      "Processing image 49/129.\n",
      "Processing image 50/129.\n",
      "Processing image 51/129.\n",
      "Processing image 52/129.\n",
      "Processing image 53/129.\n",
      "Processing image 54/129.\n",
      "Processing image 55/129.\n",
      "Processing image 56/129.\n",
      "Processing image 57/129.\n",
      "Processing image 58/129.\n",
      "Processing image 59/129.\n",
      "Processing image 60/129.\n",
      "Processing image 61/129.\n",
      "Processing image 62/129.\n",
      "Processing image 63/129.\n",
      "Processing image 64/129.\n",
      "Processing image 65/129.\n",
      "Processing image 66/129.\n",
      "Processing image 67/129.\n",
      "Processing image 68/129.\n",
      "Processing image 69/129.\n",
      "Processing image 70/129.\n",
      "Processing image 71/129.\n",
      "Processing image 72/129.\n",
      "Processing image 73/129.\n",
      "Processing image 74/129.\n",
      "Processing image 75/129.\n",
      "Processing image 76/129.\n",
      "Processing image 77/129.\n",
      "Processing image 78/129.\n",
      "Processing image 79/129.\n",
      "Processing image 80/129.\n",
      "Processing image 81/129.\n",
      "Processing image 82/129.\n",
      "Processing image 83/129.\n",
      "Processing image 84/129.\n",
      "Processing image 85/129.\n",
      "Processing image 86/129.\n",
      "Processing image 87/129.\n",
      "Processing image 88/129.\n",
      "Processing image 89/129.\n",
      "Processing image 90/129.\n",
      "Processing image 91/129.\n",
      "Processing image 92/129.\n",
      "Processing image 93/129.\n",
      "Processing image 94/129.\n",
      "Processing image 95/129.\n",
      "Processing image 96/129.\n",
      "Processing image 97/129.\n",
      "Processing image 98/129.\n",
      "Processing image 99/129.\n",
      "Processing image 100/129.\n",
      "Processing image 101/129.\n",
      "Processing image 102/129.\n",
      "Processing image 103/129.\n",
      "Processing image 104/129.\n",
      "Processing image 105/129.\n",
      "Processing image 106/129.\n",
      "Processing image 107/129.\n",
      "Processing image 108/129.\n",
      "Processing image 109/129.\n",
      "Processing image 110/129.\n",
      "Processing image 111/129.\n",
      "Processing image 112/129.\n",
      "Processing image 113/129.\n",
      "Processing image 114/129.\n",
      "Processing image 115/129.\n",
      "Processing image 116/129.\n",
      "Processing image 117/129.\n",
      "Processing image 118/129.\n",
      "Processing image 119/129.\n",
      "Processing image 120/129.\n",
      "Processing image 121/129.\n",
      "Processing image 122/129.\n",
      "Processing image 123/129.\n",
      "Processing image 124/129.\n",
      "Processing image 125/129.\n",
      "Processing image 126/129.\n",
      "Processing image 127/129.\n",
      "Processing image 128/129.\n",
      "Processing image 129/129.\n"
     ]
    }
   ],
   "source": [
    "image_segmentor = ImageSegmentation(sam_params)   \n",
    "image_segmentor.set_distortion_correction('../data/box_canyon_park/SfM_products/agisoft_cameras.xml')\n",
    "image_folder_path = '../data/box_canyon_park/DJI_photos'\n",
    "segmentation_folder_path = '../data/box_canyon_park/segmentations'\n",
    "image_paths = [os.path.join(image_folder_path, f) for f in os.listdir(image_folder_path) if f.endswith('.JPG')]\n",
    "image_segmentor.batch_predict(image_paths, segmentation_folder_path, maximum_size=1000, save_overlap=True)"
   ]
  },
  {
   "cell_type": "markdown",
   "metadata": {},
   "source": [
    "## 4. Create projection associations"
   ]
  },
  {
   "cell_type": "code",
   "execution_count": 4,
   "metadata": {},
   "outputs": [],
   "source": [
    "from ssfm.probabilistic_projection import *\n",
    "import time"
   ]
  },
  {
   "cell_type": "code",
   "execution_count": 5,
   "metadata": {},
   "outputs": [],
   "source": [
    "pointcloud_projector = PointcloudProjection(depth_filtering_threshold=0.2)\n",
    "#pointcloud_projector = PointcloudProjection()"
   ]
  },
  {
   "cell_type": "code",
   "execution_count": 6,
   "metadata": {},
   "outputs": [],
   "source": [
    "\n",
    "pointcloud_projector.read_camera_parameters('../data/box_canyon_park/SfM_products/agisoft_cameras.xml')\n",
    "pointcloud_projector.read_mesh('../data/box_canyon_park/SfM_products/model.obj')\n",
    "pointcloud_projector.read_pointcloud('../data/box_canyon_park/SfM_products/agisoft_model.las')\n",
    "\n",
    "\n",
    "#pointcloud_projector.read_camera_parameters('../data/box_canyon_park/SfM_products/camera.json', '../data/box_canyon_park/SfM_products/shots.geojson')\n",
    "#pointcloud_projector.read_pointcloud('../data/box_canyon_park/SfM_products/model.las')"
   ]
  },
  {
   "cell_type": "code",
   "execution_count": 7,
   "metadata": {},
   "outputs": [
    {
     "name": "stderr",
     "output_type": "stream",
     "text": [
      "Processing frames: 100%|██████████| 129/129 [06:21<00:00,  2.96s/it]\n"
     ]
    }
   ],
   "source": [
    "# batch project\n",
    "image_folder_path = '../data/box_canyon_park/DJI_photos'\n",
    "save_folder_path = '../data/box_canyon_park/associations'\n",
    "\n",
    "image_list = [f for f in os.listdir(image_folder_path) if f.endswith('.JPG')]\n",
    "pointcloud_projector.parallel_batch_project_joblib(image_list, save_folder_path, num_workers=8)"
   ]
  },
  {
   "cell_type": "code",
   "execution_count": 8,
   "metadata": {},
   "outputs": [
    {
     "name": "stdout",
     "output_type": "stream",
     "text": [
      "Time for building keyimage associations:  103.16834735870361\n"
     ]
    }
   ],
   "source": [
    "# build keyimage associations\n",
    "t1 = time.time()\n",
    "pointcloud_projector.build_associations_keyimage('../data/box_canyon_park/associations', '../data/box_canyon_park/segmentations')\n",
    "t2 = time.time()\n",
    "print('Time for building keyimage associations: ', t2 - t1)"
   ]
  },
  {
   "cell_type": "markdown",
   "metadata": {},
   "source": [
    "## 5. Run object registration"
   ]
  },
  {
   "cell_type": "code",
   "execution_count": 9,
   "metadata": {},
   "outputs": [],
   "source": [
    "from ssfm.object_registration import *\n",
    "from ssfm.post_processing import PostProcessing"
   ]
  },
  {
   "cell_type": "code",
   "execution_count": null,
   "metadata": {},
   "outputs": [],
   "source": [
    "# Set paths\n",
    "\n",
    "#time.sleep(3600)\n",
    "pointcloud_path = '../data/box_canyon_park/SfM_products/agisoft_model.las'\n",
    "segmentation_folder_path = '../data/box_canyon_park/segmentations'\n",
    "image_folder_path = '../data/box_canyon_park/DJI_photos'\n",
    "association_folder_path = '../data/box_canyon_park/associations'\n",
    "\n",
    "# Create object registration\n",
    "t1 = time.time()\n",
    "obr = ObjectRegistration(pointcloud_path, segmentation_folder_path, association_folder_path)\n",
    "t2 = time.time()\n",
    "print('Time elapsed for creating object registration: {}'.format(t2-t1))\n",
    "\n",
    "# Run object registration\n",
    "obr.object_registration(iou_threshold=0.5, save_semantics=True)\n",
    "#obr.object_registration(iou_threshold=0.5)\n",
    "\n",
    "# save semantic point cloud\n",
    "obr.save_semantic_pointcloud('../data/box_canyon_park/associations/semantic_model.las')"
   ]
  },
  {
   "cell_type": "code",
   "execution_count": null,
   "metadata": {},
   "outputs": [],
   "source": [
    "# shuffle semantic ids\n",
    "semantic_pc_file_path = '../../data/box_canyon_park/semantic_model.las'\n",
    "post_processing = PostProcessing(semantic_pc_file_path)\n",
    "post_processing.shuffle_semantic_ids()\n",
    "save_las_path = '../../data/box_canyon_park/semantic_model_shuffled.las'\n",
    "post_processing.save_semantic_pointcloud(save_las_path)"
   ]
  },
  {
   "cell_type": "code",
   "execution_count": null,
   "metadata": {},
   "outputs": [],
   "source": [
    "\n",
    "pointcloud_path = '../../data/box_canyon_park/SfM_products/agisoft_model.las'\n",
    "segmentation_folder_path = '../../data/box_canyon_park/segmentations'\n",
    "image_folder_path = '../../data/box_canyon_park/DJI_photos'\n",
    "association_folder_path = '../../data/box_canyon_park/associations'\n",
    "\n",
    "obr = ObjectRegistration(pointcloud_path, segmentation_folder_path, association_folder_path)\n",
    "\n",
    "add_semantics_to_pointcloud_flag = True\n",
    "if add_semantics_to_pointcloud_flag:\n",
    "    image_id = 128\n",
    "    semantics_folder_path = os.path.join(association_folder_path, 'semantics', 'semantics_{}.npy'.format(image_id))\n",
    "    save_las_path = os.path.join(association_folder_path, 'semantics', 'semantics_{}_depth_filter.las'.format(image_id))\n",
    "    add_semantics_to_pointcloud(pointcloud_path, semantics_folder_path, save_las_path) "
   ]
  }
 ],
 "metadata": {
  "kernelspec": {
   "display_name": "Python 3",
   "language": "python",
   "name": "python3"
  },
  "language_info": {
   "codemirror_mode": {
    "name": "ipython",
    "version": 3
   },
   "file_extension": ".py",
   "mimetype": "text/x-python",
   "name": "python",
   "nbconvert_exporter": "python",
   "pygments_lexer": "ipython3",
   "version": "3.6.8"
  }
 },
 "nbformat": 4,
 "nbformat_minor": 2
}
