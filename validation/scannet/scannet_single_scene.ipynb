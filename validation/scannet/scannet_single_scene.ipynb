{
 "cells": [
  {
   "cell_type": "markdown",
   "metadata": {},
   "source": [
    "# Semantic SfM of single scene in Scannet"
   ]
  },
  {
   "cell_type": "markdown",
   "metadata": {},
   "source": [
    "### 1. Download entire Scannet dataset\n",
    "\n",
    "Find information on ScanNet website: http://www.scan-net.org/ScanNet/\n",
    "\n",
    "After download the data, you should extract data from .sens using [SensReader/reader.py](https://github.com/ScanNet/ScanNet/tree/master/SensReader/python). All the extracted data should be stored in `output` folder under a scene folder, e.g., `scannet/scans/scene0000_00/output`.\n",
    "\n",
    "```bash\n",
    "python3 reader.py --filename /home/zchen256/semantic_SfM/data/scannet/scans/scene0000_00/scene0000_00.sens --output_path /home/zchen256/semantic_SfM/data/scannet/scans/scene0000_00/output --export_depth_images --export_color_images --export_poses --export_intrinsics\n",
    "```"
   ]
  },
  {
   "cell_type": "markdown",
   "metadata": {},
   "source": [
    "### 2. Extract Scannet data to prepare SSfM data"
   ]
  },
  {
   "cell_type": "code",
   "execution_count": 1,
   "metadata": {},
   "outputs": [
    {
     "name": "stdout",
     "output_type": "stream",
     "text": [
      "Jupyter environment detected. Enabling Open3D WebVisualizer.\n",
      "[Open3D INFO] WebRTC GUI backend enabled.\n",
      "[Open3D INFO] WebRTCWindowSystem: HTTP handshake server disabled.\n"
     ]
    }
   ],
   "source": [
    "from scene_extractor import SceneExtractor"
   ]
  },
  {
   "cell_type": "code",
   "execution_count": 2,
   "metadata": {},
   "outputs": [],
   "source": [
    "scene_dir = '../../data/scannet/scans/scene0000_00'\n",
    "save_dir = '../../data/scene0000_00'"
   ]
  },
  {
   "cell_type": "code",
   "execution_count": 3,
   "metadata": {},
   "outputs": [
    {
     "name": "stdout",
     "output_type": "stream",
     "text": [
      "Extracted 5578 segmentations\n"
     ]
    }
   ],
   "source": [
    "scene_extractor = SceneExtractor(scene_dir, save_dir)\n",
    "scene_extractor.extract_photos()\n",
    "scene_extractor.extract_depths()\n",
    "scene_extractor.extract_segmentations()\n",
    "scene_extractor.extract_reconstruction()\n",
    "scene_extractor.extract_ground_truth()"
   ]
  },
  {
   "cell_type": "markdown",
   "metadata": {},
   "source": [
    "### 3. Select keyimages based on blur"
   ]
  },
  {
   "cell_type": "code",
   "execution_count": 3,
   "metadata": {},
   "outputs": [],
   "source": [
    "from select_keyimages import select_scannet_keyimages"
   ]
  },
  {
   "cell_type": "code",
   "execution_count": 4,
   "metadata": {},
   "outputs": [
    {
     "name": "stderr",
     "output_type": "stream",
     "text": [
      "Processing images:   0%|          | 0/5578 [00:00<?, ?it/s]"
     ]
    },
    {
     "name": "stderr",
     "output_type": "stream",
     "text": [
      "Processing images: 100%|██████████| 5578/5578 [00:29<00:00, 189.74it/s]\n"
     ]
    },
    {
     "name": "stdout",
     "output_type": "stream",
     "text": [
      "Number of keyimages_threshold:  2963\n",
      "Number of keyimages_ratio:  1115\n",
      "Number of keyimages:  2963\n",
      "Number of selected keyimages:  195\n",
      "Total images:  5578\n",
      "Keyimages saved to:  ../../data/scene0000_00/associations/keyimages.yaml\n"
     ]
    }
   ],
   "source": [
    "scene_dir = save_dir\n",
    "select_scannet_keyimages(scene_dir, ratio=0.2, threshold=180, file_cluster_size=30, n_jobs=8)"
   ]
  },
  {
   "cell_type": "markdown",
   "metadata": {},
   "source": [
    "### 4. Create projection associations"
   ]
  },
  {
   "cell_type": "code",
   "execution_count": 4,
   "metadata": {},
   "outputs": [],
   "source": [
    "from ssfm.probabilistic_projection import *\n",
    "import os\n",
    "import yaml"
   ]
  },
  {
   "cell_type": "code",
   "execution_count": 5,
   "metadata": {},
   "outputs": [],
   "source": [
    "pointcloud_projector = PointcloudProjection(depth_filtering_threshold=0.005)\n",
    "pointcloud_projector.read_scannet_camera_parameters('../../data/scene0000_00')\n",
    "pointcloud_projector.read_scannet_mesh('../../data/scene0000_00/reconstructions/mesh_vertices_color.npy')"
   ]
  },
  {
   "cell_type": "code",
   "execution_count": 6,
   "metadata": {},
   "outputs": [],
   "source": [
    "# batch project\n",
    "image_folder_path = '../../data/scene0000_00/photos'\n",
    "save_folder_path = '../../data/scene0000_00/associations'\n",
    "\n",
    "keyimages_path = os.path.join(save_folder_path, 'keyimages.yaml')\n",
    "\n",
    "assert os.path.exists(keyimages_path), 'Keyimages not found'\n",
    "\n",
    "with open(keyimages_path, 'r') as f:\n",
    "    keyimages = yaml.safe_load(f)\n",
    "\n",
    "# replace .npy with .jpg in keyimages, keyimages is a list of strings\n",
    "image_list = [os.path.splitext(image)[0] + '.jpg' for image in keyimages]"
   ]
  },
  {
   "cell_type": "code",
   "execution_count": 7,
   "metadata": {},
   "outputs": [
    {
     "name": "stderr",
     "output_type": "stream",
     "text": [
      "Processing frames: 100%|██████████| 195/195 [00:39<00:00,  4.88it/s]\n"
     ]
    }
   ],
   "source": [
    "#pointcloud_projector.parallel_batch_project(image_list, save_folder_path)\n",
    "pointcloud_projector.parallel_batch_project_joblib(image_list, save_folder_path, num_workers=16, save_depth=False)"
   ]
  },
  {
   "cell_type": "code",
   "execution_count": 8,
   "metadata": {},
   "outputs": [],
   "source": [
    "# build keyimage associations\n",
    "from ssfm.keyimage_associations_builder import *"
   ]
  },
  {
   "cell_type": "code",
   "execution_count": 9,
   "metadata": {},
   "outputs": [
    {
     "name": "stderr",
     "output_type": "stream",
     "text": [
      "100%|██████████| 195/195 [00:00<00:00, 226.77it/s]\n"
     ]
    }
   ],
   "source": [
    "smc_solver = KeyimageAssociationsBuilder('../../data/scene0000_00/associations', '../../data/scene0000_00/segmentations')\n",
    "smc_solver.build_associations()"
   ]
  },
  {
   "cell_type": "code",
   "execution_count": 10,
   "metadata": {},
   "outputs": [
    {
     "name": "stdout",
     "output_type": "stream",
     "text": [
      "| Metric                                                       | Count      | Percentage           |\n",
      "----------------------------------------------------------------------------------------------------\n",
      "| Number of points not covered by any image                    | 17332      | 21.30                |\n",
      "| Number of points covered by less than or equal to 1 image    | 30466      | 37.44                |\n",
      "| Number of points covered by less than or equal to 3 images   | 44914      | 55.20                |\n",
      "| Number of points covered by less than or equal to 5 images   | 54268      | 66.69                |\n"
     ]
    }
   ],
   "source": [
    "smc_solver.find_min_cover()"
   ]
  },
  {
   "cell_type": "markdown",
   "metadata": {},
   "source": [
    "### 5. Estimate memory usage"
   ]
  },
  {
   "cell_type": "code",
   "execution_count": 12,
   "metadata": {},
   "outputs": [],
   "source": [
    "from ssfm.memory_calculator import memory_calculator"
   ]
  },
  {
   "cell_type": "code",
   "execution_count": 13,
   "metadata": {},
   "outputs": [
    {
     "name": "stdout",
     "output_type": "stream",
     "text": [
      "+----------------------------------------+-----------------------+\n",
      "|              Memory Type               |  Memory Required (GB) |\n",
      "+----------------------------------------+-----------------------+\n",
      "|      Segmentation for each image       |  0.002336740493774414 |\n",
      "| Pixel2point association for each image |  0.004673480987548828 |\n",
      "| Point2pixel association for each image | 0.0003031231462955475 |\n",
      "|                                        |                       |\n",
      "|      Segmentation for all images       |  0.45566439628601074  |\n",
      "| Pixel2point association for all images |   0.9113287925720215  |\n",
      "| Point2pixel association for all images |  0.05910901352763176  |\n",
      "|          pc_segmentation_ids           | 0.0015156157314777374 |\n",
      "|         pc_segmentation_probs          | 0.0015156157314777374 |\n",
      "|          keyimage_association          |  0.01477725338190794  |\n",
      "|                 Total                  |   1.4439106872305274  |\n",
      "+----------------------------------------+-----------------------+\n"
     ]
    }
   ],
   "source": [
    "# pointcloud file\n",
    "npy_file = \"../../data/scene0000_00/reconstructions/mesh_vertices_color.npy\"\n",
    "# image file sample\n",
    "image_file = \"../../data/scene0000_00/photos/0.jpg\"\n",
    "# number of images\n",
    "num_images = len(image_list)\n",
    "# number of segmentation ids for each point in the point cloud\n",
    "num_segmentation_ids = 5\n",
    "\n",
    "memory_calculator(npy_file, image_file, num_images, num_segmentation_ids)"
   ]
  },
  {
   "cell_type": "markdown",
   "metadata": {},
   "source": [
    "### 6. Run object registration"
   ]
  },
  {
   "cell_type": "code",
   "execution_count": 1,
   "metadata": {},
   "outputs": [],
   "source": [
    "from ssfm.object_registration import *\n",
    "from ssfm.post_processing import PostProcessing"
   ]
  },
  {
   "cell_type": "code",
   "execution_count": 2,
   "metadata": {},
   "outputs": [],
   "source": [
    "pointcloud_path = '../../data/scene0000_00/reconstructions/mesh_vertices_color.npy'\n",
    "segmentation_folder_path = '../../data/scene0000_00/segmentations'\n",
    "image_folder_path = '../../data/scene0000_00/photos'\n",
    "association_folder_path = '../../data/scene0000_00/associations'\n",
    "\n",
    "keyimage_associations_file_name = 'associations_keyimage.npy'\n",
    "keyimage_yaml_name = 'keyimages.yaml'"
   ]
  },
  {
   "cell_type": "code",
   "execution_count": 3,
   "metadata": {},
   "outputs": [
    {
     "name": "stdout",
     "output_type": "stream",
     "text": [
      "Processing image 1/195: 0.npy\n",
      "Processing image 2/195: 100.npy\n",
      "Processing image 3/195: 1000.npy\n",
      "Processing image 4/195: 1017.npy\n",
      "Processing image 5/195: 1043.npy\n",
      "Processing image 6/195: 1147.npy\n",
      "Processing image 7/195: 1162.npy\n",
      "Processing image 8/195: 1167.npy\n",
      "Processing image 9/195: 1362.npy\n",
      "Processing image 10/195: 138.npy\n",
      "Processing image 11/195: 1385.npy\n",
      "Processing image 12/195: 1400.npy\n",
      "Processing image 13/195: 141.npy\n",
      "Processing image 14/195: 1424.npy\n",
      "Processing image 15/195: 1467.npy\n",
      "Processing image 16/195: 1483.npy\n",
      "Processing image 17/195: 1539.npy\n",
      "Processing image 18/195: 1600.npy\n",
      "Processing image 19/195: 1627.npy\n",
      "Processing image 20/195: 1644.npy\n",
      "Processing image 21/195: 1667.npy\n",
      "Processing image 22/195: 167.npy\n",
      "Processing image 23/195: 1696.npy\n",
      "Processing image 24/195: 1700.npy\n",
      "Processing image 25/195: 1749.npy\n",
      "Processing image 26/195: 1753.npy\n",
      "Processing image 27/195: 1791.npy\n",
      "Processing image 28/195: 1800.npy\n",
      "Processing image 29/195: 183.npy\n",
      "Processing image 30/195: 1851.npy\n",
      "Processing image 31/195: 1882.npy\n",
      "Processing image 32/195: 1900.npy\n",
      "Processing image 33/195: 1945.npy\n",
      "Processing image 34/195: 1971.npy\n",
      "Processing image 35/195: 200.npy\n",
      "Processing image 36/195: 2000.npy\n",
      "Processing image 37/195: 2100.npy\n",
      "Processing image 38/195: 2141.npy\n",
      "Processing image 39/195: 2148.npy\n",
      "Processing image 40/195: 2200.npy\n",
      "Processing image 41/195: 223.npy\n",
      "Processing image 42/195: 2234.npy\n",
      "Processing image 43/195: 2266.npy\n",
      "Processing image 44/195: 2278.npy\n",
      "Processing image 45/195: 2300.npy\n",
      "Processing image 46/195: 2331.npy\n",
      "Processing image 47/195: 2346.npy\n",
      "Processing image 48/195: 2400.npy\n",
      "Processing image 49/195: 2435.npy\n",
      "Processing image 50/195: 2443.npy\n",
      "Processing image 51/195: 2500.npy\n",
      "Processing image 52/195: 2502.npy\n",
      "Processing image 53/195: 2542.npy\n",
      "Processing image 54/195: 2600.npy\n",
      "Processing image 55/195: 2608.npy\n",
      "Processing image 56/195: 2634.npy\n",
      "Processing image 57/195: 2649.npy\n",
      "Processing image 58/195: 2661.npy\n",
      "Processing image 59/195: 2700.npy\n",
      "Processing image 60/195: 2720.npy\n",
      "Processing image 61/195: 2733.npy\n",
      "Processing image 62/195: 2751.npy\n",
      "Processing image 63/195: 2794.npy\n",
      "Processing image 64/195: 2817.npy\n",
      "Processing image 65/195: 2827.npy\n",
      "Processing image 66/195: 2832.npy\n",
      "Processing image 67/195: 2840.npy\n",
      "Processing image 68/195: 2847.npy\n",
      "Processing image 69/195: 2851.npy\n",
      "Processing image 70/195: 2864.npy\n",
      "Processing image 71/195: 2871.npy\n",
      "Processing image 72/195: 2879.npy\n",
      "Processing image 73/195: 2900.npy\n",
      "Processing image 74/195: 2908.npy\n",
      "Processing image 75/195: 2915.npy\n",
      "Processing image 76/195: 2927.npy\n",
      "Processing image 77/195: 2936.npy\n",
      "Processing image 78/195: 2948.npy\n",
      "Processing image 79/195: 2981.npy\n",
      "Processing image 80/195: 300.npy\n",
      "Processing image 81/195: 3000.npy\n",
      "Processing image 82/195: 3051.npy\n",
      "Processing image 83/195: 3060.npy\n",
      "Processing image 84/195: 3067.npy\n",
      "Processing image 85/195: 3084.npy\n",
      "Processing image 86/195: 3095.npy\n",
      "Processing image 87/195: 3100.npy\n",
      "Processing image 88/195: 3200.npy\n",
      "Processing image 89/195: 3232.npy\n",
      "Processing image 90/195: 3290.npy\n",
      "Processing image 91/195: 3300.npy\n",
      "Processing image 92/195: 3318.npy\n",
      "Processing image 93/195: 3328.npy\n",
      "Processing image 94/195: 333.npy\n",
      "Processing image 95/195: 3356.npy\n",
      "Processing image 96/195: 3396.npy\n",
      "Processing image 97/195: 3400.npy\n",
      "Processing image 98/195: 3427.npy\n",
      "Processing image 99/195: 3433.npy\n",
      "Processing image 100/195: 3435.npy\n",
      "Processing image 101/195: 3451.npy\n",
      "Processing image 102/195: 3500.npy\n",
      "Processing image 103/195: 3514.npy\n",
      "Processing image 104/195: 3527.npy\n",
      "Processing image 105/195: 3555.npy\n",
      "Processing image 106/195: 3568.npy\n",
      "Processing image 107/195: 357.npy\n",
      "Processing image 108/195: 36.npy\n",
      "Processing image 109/195: 3600.npy\n",
      "Processing image 110/195: 3678.npy\n",
      "Processing image 111/195: 368.npy\n",
      "Processing image 112/195: 3688.npy\n",
      "Processing image 113/195: 3695.npy\n",
      "Processing image 114/195: 3700.npy\n",
      "Processing image 115/195: 3780.npy\n",
      "Processing image 116/195: 3929.npy\n",
      "Processing image 117/195: 393.npy\n",
      "Processing image 118/195: 3955.npy\n",
      "Processing image 119/195: 398.npy\n",
      "Processing image 120/195: 3991.npy\n",
      "Processing image 121/195: 400.npy\n",
      "Processing image 122/195: 4044.npy\n",
      "Processing image 123/195: 4057.npy\n",
      "Processing image 124/195: 4100.npy\n",
      "Processing image 125/195: 4200.npy\n",
      "Processing image 126/195: 4237.npy\n",
      "Processing image 127/195: 4241.npy\n",
      "Processing image 128/195: 4300.npy\n",
      "Processing image 129/195: 4305.npy\n",
      "Processing image 130/195: 4336.npy\n",
      "Processing image 131/195: 4343.npy\n",
      "Processing image 132/195: 4349.npy\n",
      "Processing image 133/195: 4355.npy\n",
      "Processing image 134/195: 4359.npy\n",
      "Processing image 135/195: 4367.npy\n",
      "Processing image 136/195: 4400.npy\n",
      "Processing image 137/195: 4415.npy\n",
      "Processing image 138/195: 4449.npy\n",
      "Processing image 139/195: 4478.npy\n",
      "Processing image 140/195: 4488.npy\n",
      "Processing image 141/195: 449.npy\n",
      "Processing image 142/195: 4531.npy\n",
      "Processing image 143/195: 4590.npy\n",
      "Processing image 144/195: 4600.npy\n",
      "Processing image 145/195: 4609.npy\n",
      "Processing image 146/195: 4616.npy\n",
      "Processing image 147/195: 4628.npy\n",
      "Processing image 148/195: 4634.npy\n",
      "Processing image 149/195: 4642.npy\n",
      "Processing image 150/195: 4646.npy\n",
      "Processing image 151/195: 4700.npy\n",
      "Processing image 152/195: 4730.npy\n",
      "Processing image 153/195: 4757.npy\n",
      "Processing image 154/195: 4760.npy\n",
      "Processing image 155/195: 4768.npy\n",
      "Processing image 156/195: 4788.npy\n",
      "Processing image 157/195: 480.npy\n",
      "Processing image 158/195: 4800.npy\n",
      "Processing image 159/195: 4812.npy\n",
      "Processing image 160/195: 4852.npy\n",
      "Processing image 161/195: 4862.npy\n",
      "Processing image 162/195: 4900.npy\n",
      "Processing image 163/195: 4962.npy\n",
      "Processing image 164/195: 4975.npy\n",
      "Processing image 165/195: 500.npy\n",
      "Processing image 166/195: 5053.npy\n",
      "Processing image 167/195: 5249.npy\n",
      "Processing image 168/195: 5267.npy\n",
      "Processing image 169/195: 5314.npy\n",
      "Processing image 170/195: 5332.npy\n",
      "Processing image 171/195: 5344.npy\n",
      "Processing image 172/195: 5363.npy\n",
      "Processing image 173/195: 5400.npy\n",
      "Processing image 174/195: 5431.npy\n",
      "Processing image 175/195: 5465.npy\n",
      "Processing image 176/195: 5495.npy\n",
      "Processing image 177/195: 55.npy\n",
      "Processing image 178/195: 5500.npy\n",
      "Processing image 179/195: 5549.npy\n",
      "Processing image 180/195: 564.npy\n",
      "Processing image 181/195: 581.npy\n",
      "Processing image 182/195: 600.npy\n",
      "Processing image 183/195: 683.npy\n",
      "Processing image 184/195: 700.npy\n",
      "Processing image 185/195: 75.npy\n",
      "Processing image 186/195: 778.npy\n",
      "Processing image 187/195: 791.npy\n",
      "Processing image 188/195: 841.npy\n",
      "Processing image 189/195: 859.npy\n",
      "Processing image 190/195: 867.npy\n",
      "Processing image 191/195: 873.npy\n",
      "Processing image 192/195: 885.npy\n",
      "Processing image 193/195: 900.npy\n",
      "Processing image 194/195: 939.npy\n",
      "Processing image 195/195: 973.npy\n"
     ]
    }
   ],
   "source": [
    "# Create object registration\n",
    "obr = ObjectRegistration(pointcloud_path, segmentation_folder_path, association_folder_path, keyimage_associations_file_name=keyimage_associations_file_name, keyimage_yaml_name=keyimage_yaml_name)\n",
    "\n",
    "# Run object registration\n",
    "obr.object_registration(iou_threshold=0.5, save_semantics=True)\n",
    "\n",
    "\n",
    "# save semantic point cloud\n",
    "obr.save_semantic_pointcloud('../../data/scene0000_00/semantic_model.las')"
   ]
  },
  {
   "cell_type": "code",
   "execution_count": 4,
   "metadata": {},
   "outputs": [
    {
     "name": "stdout",
     "output_type": "stream",
     "text": [
      "maximum of semantics:  1990\n",
      "number of unique semantics:  99\n"
     ]
    }
   ],
   "source": [
    "image_id = 194\n",
    "semantics_folder_path = os.path.join(association_folder_path, 'semantics', 'semantics_{}.npy'.format(image_id))\n",
    "save_las_path = os.path.join(association_folder_path, 'semantics', 'semantics_{}.las'.format(image_id))\n",
    "add_semantics_to_pointcloud(pointcloud_path, semantics_folder_path, save_las_path) "
   ]
  },
  {
   "cell_type": "code",
   "execution_count": 5,
   "metadata": {},
   "outputs": [
    {
     "name": "stdout",
     "output_type": "stream",
     "text": [
      "Number of unique semantics:  99\n"
     ]
    }
   ],
   "source": [
    "semantic_pc_file_path = '../../data/scene0000_00/associations/semantics/semantics_{}.las'.format(image_id)\n",
    "post_processing = PostProcessing(semantic_pc_file_path)\n",
    "post_processing.shuffle_semantic_ids()\n",
    "save_las_path = '../../data/scene0000_00/associations/semantics/semantics_{}_shuffled.las'.format(image_id)\n",
    "post_processing.save_semantic_pointcloud(save_las_path)"
   ]
  },
  {
   "cell_type": "code",
   "execution_count": null,
   "metadata": {},
   "outputs": [],
   "source": []
  }
 ],
 "metadata": {
  "kernelspec": {
   "display_name": "Python 3",
   "language": "python",
   "name": "python3"
  },
  "language_info": {
   "codemirror_mode": {
    "name": "ipython",
    "version": 3
   },
   "file_extension": ".py",
   "mimetype": "text/x-python",
   "name": "python",
   "nbconvert_exporter": "python",
   "pygments_lexer": "ipython3",
   "version": "3.6.8"
  }
 },
 "nbformat": 4,
 "nbformat_minor": 2
}
