{
 "cells": [
  {
   "cell_type": "markdown",
   "metadata": {},
   "source": [
    "# Semantic SfM of single scene in Scannet"
   ]
  },
  {
   "cell_type": "markdown",
   "metadata": {},
   "source": [
    "### 1. Download entire Scannet dataset\n",
    "\n",
    "Find information on ScanNet website: http://www.scan-net.org/ScanNet/\n",
    "\n",
    "After download the data, you should extract data from .sens using [SensReader/reader.py](https://github.com/ScanNet/ScanNet/tree/master/SensReader/python). All the extracted data should be stored in `output` folder under a scene folder, e.g., `scannet/scans/scene0000_00/output`.\n",
    "\n",
    "```bash\n",
    "python3 reader.py --filename /home/zchen256/semantic_SfM/data/scannet/scans/scene0000_00/scene0000_00.sens --output_path /home/zchen256/semantic_SfM/data/scannet/scans/scene0000_00/output --export_depth_images --export_color_images --export_poses --export_intrinsics\n",
    "```"
   ]
  },
  {
   "cell_type": "markdown",
   "metadata": {},
   "source": [
    "### 2. Extract Scannet data to prepare SSfM data"
   ]
  },
  {
   "cell_type": "code",
   "execution_count": 1,
   "metadata": {},
   "outputs": [
    {
     "name": "stdout",
     "output_type": "stream",
     "text": [
      "Jupyter environment detected. Enabling Open3D WebVisualizer.\n",
      "[Open3D INFO] WebRTC GUI backend enabled.\n",
      "[Open3D INFO] WebRTCWindowSystem: HTTP handshake server disabled.\n"
     ]
    }
   ],
   "source": [
    "from scene_extractor import SceneExtractor"
   ]
  },
  {
   "cell_type": "code",
   "execution_count": 1,
   "metadata": {},
   "outputs": [],
   "source": [
    "scene_dir = '../../data/scannet/scans/scene0000_00'\n",
    "save_dir = '../../data/scene0000_00'"
   ]
  },
  {
   "cell_type": "code",
   "execution_count": 3,
   "metadata": {},
   "outputs": [
    {
     "name": "stdout",
     "output_type": "stream",
     "text": [
      "Extracted 5578 segmentations\n"
     ]
    }
   ],
   "source": [
    "scene_extractor = SceneExtractor(scene_dir, save_dir)\n",
    "scene_extractor.extract_photos()\n",
    "scene_extractor.extract_depths()\n",
    "scene_extractor.extract_segmentations()\n",
    "scene_extractor.extract_reconstruction()\n",
    "scene_extractor.extract_ground_truth()"
   ]
  },
  {
   "cell_type": "markdown",
   "metadata": {},
   "source": [
    "### 3. Select keyimages based on blur"
   ]
  },
  {
   "cell_type": "code",
   "execution_count": 7,
   "metadata": {},
   "outputs": [],
   "source": [
    "from select_keyimages import select_scannet_keyimages"
   ]
  },
  {
   "cell_type": "code",
   "execution_count": null,
   "metadata": {},
   "outputs": [],
   "source": [
    "scene_dir = save_dir\n",
    "select_scannet_keyimages(scene_dir, ratio=0.2, threshold=180, file_cluster_size=30, n_jobs=8)"
   ]
  },
  {
   "cell_type": "markdown",
   "metadata": {},
   "source": [
    "### 4. Create projection associations"
   ]
  },
  {
   "cell_type": "code",
   "execution_count": 2,
   "metadata": {},
   "outputs": [],
   "source": [
    "from ssfm.probabilistic_projection import *\n",
    "import os\n",
    "import yaml"
   ]
  },
  {
   "cell_type": "code",
   "execution_count": 3,
   "metadata": {},
   "outputs": [],
   "source": [
    "pointcloud_projector = PointcloudProjection(depth_filtering_threshold=0.005)\n",
    "pointcloud_projector.read_scannet_camera_parameters('../../data/scene0000_00')\n",
    "pointcloud_projector.read_scannet_mesh('../../data/scene0000_00/reconstructions/mesh_vertices_color.npy')"
   ]
  },
  {
   "cell_type": "code",
   "execution_count": 4,
   "metadata": {},
   "outputs": [],
   "source": [
    "# batch project\n",
    "image_folder_path = '../../data/scene0000_00/photos'\n",
    "save_folder_path = '../../data/scene0000_00/associations'\n",
    "\n",
    "keyimages_path = os.path.join(save_folder_path, 'keyimages.yaml')\n",
    "\n",
    "assert os.path.exists(keyimages_path), 'Keyimages not found'\n",
    "\n",
    "with open(keyimages_path, 'r') as f:\n",
    "    keyimages = yaml.safe_load(f)\n",
    "\n",
    "# replace .npy with .jpg in keyimages, keyimages is a list of strings\n",
    "image_list = [os.path.splitext(image)[0] + '.jpg' for image in keyimages]\n",
    "# sort the image_list based on the values in the image names\n",
    "image_list.sort(key=lambda x: int(x.split('/')[-1].split('_')[-1].split('.')[0]))"
   ]
  },
  {
   "cell_type": "code",
   "execution_count": 7,
   "metadata": {},
   "outputs": [
    {
     "name": "stderr",
     "output_type": "stream",
     "text": [
      "Processing frames: 100%|██████████| 614/614 [02:28<00:00,  4.13it/s]\n"
     ]
    }
   ],
   "source": [
    "#pointcloud_projector.parallel_batch_project(image_list, save_folder_path)\n",
    "pointcloud_projector.parallel_batch_project_joblib(image_list, save_folder_path, num_workers=16, save_depth=False)"
   ]
  },
  {
   "cell_type": "code",
   "execution_count": 5,
   "metadata": {},
   "outputs": [],
   "source": [
    "# build keyimage associations\n",
    "from ssfm.keyimage_associations_builder import *"
   ]
  },
  {
   "cell_type": "code",
   "execution_count": 8,
   "metadata": {},
   "outputs": [
    {
     "name": "stderr",
     "output_type": "stream",
     "text": [
      "100%|██████████| 614/614 [00:02<00:00, 205.20it/s]\n"
     ]
    }
   ],
   "source": [
    "smc_solver = KeyimageAssociationsBuilder(image_list, '../../data/scene0000_00/associations', '../../data/scene0000_00/segmentations_gt')\n",
    "smc_solver.build_associations()"
   ]
  },
  {
   "cell_type": "code",
   "execution_count": 6,
   "metadata": {},
   "outputs": [
    {
     "name": "stdout",
     "output_type": "stream",
     "text": [
      "| Metric                                                       | Count      | Percentage           |\n",
      "----------------------------------------------------------------------------------------------------\n",
      "| Number of points not covered by any image                    | 5585       | 6.86                 |\n",
      "| Number of points covered by less than or equal to 1 image    | 11823      | 14.53                |\n",
      "| Number of points covered by less than or equal to 3 images   | 22172      | 27.25                |\n",
      "| Number of points covered by less than or equal to 5 images   | 29935      | 36.79                |\n"
     ]
    }
   ],
   "source": [
    "smc_solver.find_min_cover()"
   ]
  },
  {
   "cell_type": "markdown",
   "metadata": {},
   "source": [
    "### 5. Estimate memory usage"
   ]
  },
  {
   "cell_type": "code",
   "execution_count": 6,
   "metadata": {},
   "outputs": [],
   "source": [
    "from ssfm.memory_calculator import memory_calculator"
   ]
  },
  {
   "cell_type": "code",
   "execution_count": 14,
   "metadata": {},
   "outputs": [
    {
     "name": "stdout",
     "output_type": "stream",
     "text": [
      "+----------------------------------------+-----------------------+\n",
      "|              Memory Type               |  Memory Required (GB) |\n",
      "+----------------------------------------+-----------------------+\n",
      "|      Segmentation for each image       |  0.002336740493774414 |\n",
      "| Pixel2point association for each image |  0.004673480987548828 |\n",
      "| Point2pixel association for each image | 0.0003031231462955475 |\n",
      "|                                        |                       |\n",
      "|      Segmentation for all images       |   0.6402668952941895  |\n",
      "| Pixel2point association for all images |   1.280533790588379   |\n",
      "| Point2pixel association for all images |  0.08305574208498001  |\n",
      "|          pc_segmentation_ids           | 0.0015156157314777374 |\n",
      "|         pc_segmentation_probs          | 0.0015156157314777374 |\n",
      "|          keyimage_association          |  0.020763935521245003 |\n",
      "|                 Total                  |   2.027651594951749   |\n",
      "+----------------------------------------+-----------------------+\n"
     ]
    }
   ],
   "source": [
    "# pointcloud file\n",
    "npy_file = \"../../data/scene0000_00/reconstructions/mesh_vertices_color.npy\"\n",
    "# image file sample\n",
    "image_file = \"../../data/scene0000_00/photos/0.jpg\"\n",
    "# number of images\n",
    "num_images = len(image_list)\n",
    "# number of segmentation ids for each point in the point cloud\n",
    "num_segmentation_ids = 5\n",
    "\n",
    "memory_calculator(npy_file, image_file, num_images, num_segmentation_ids)"
   ]
  },
  {
   "cell_type": "markdown",
   "metadata": {},
   "source": [
    "### 6. Run object registration"
   ]
  },
  {
   "cell_type": "code",
   "execution_count": 11,
   "metadata": {},
   "outputs": [],
   "source": [
    "from ssfm.object_registration import *\n",
    "from ssfm.post_processing import *\n"
   ]
  },
  {
   "cell_type": "code",
   "execution_count": 9,
   "metadata": {},
   "outputs": [],
   "source": [
    "pointcloud_path = '../../data/scene0000_00/reconstructions/mesh_vertices_color.npy'\n",
    "segmentation_folder_path = '../../data/scene0000_00/segmentations_gt'\n",
    "image_folder_path = '../../data/scene0000_00/photos'\n",
    "association_folder_path = '../../data/scene0000_00/associations'\n",
    "\n",
    "keyimage_associations_file_name = 'associations_keyimage.npy'"
   ]
  },
  {
   "cell_type": "code",
   "execution_count": 12,
   "metadata": {},
   "outputs": [
    {
     "name": "stderr",
     "output_type": "stream",
     "text": [
      "Processing images: 100%|██████████| 614/614 [04:16<00:00,  2.39it/s]\n"
     ]
    }
   ],
   "source": [
    "# Create object registration\n",
    "obr = ObjectRegistration(pointcloud_path, segmentation_folder_path, association_folder_path, keyimage_associations_file_name=keyimage_associations_file_name, image_list=image_list)\n",
    "\n",
    "# Run object registration\n",
    "obr.object_registration(iou_threshold=0.5, save_semantics=True)\n",
    "\n",
    "\n",
    "# save semantic point cloud\n",
    "obr.save_semantic_pointcloud('../../data/scene0000_00/semantic_model.las')"
   ]
  },
  {
   "cell_type": "code",
   "execution_count": 13,
   "metadata": {},
   "outputs": [
    {
     "name": "stdout",
     "output_type": "stream",
     "text": [
      "Before removing small semantics: \n",
      "maximum of semantics:  5847\n",
      "number of unique semantics:  88\n",
      "After removing small semantics: \n",
      "number of unique semantics:  65\n"
     ]
    }
   ],
   "source": [
    "image_id = 613\n",
    "semantics_path = os.path.join(association_folder_path, 'semantics', 'semantics_{}.npy'.format(image_id))\n",
    "save_las_path = os.path.join(association_folder_path, 'semantics', 'semantics_{}.las'.format(image_id))\n",
    "add_semantics_to_pointcloud(pointcloud_path, semantics_path, save_las_path, remove_small_N=10, nearest_interpolation=10)"
   ]
  },
  {
   "cell_type": "code",
   "execution_count": 14,
   "metadata": {},
   "outputs": [
    {
     "name": "stdout",
     "output_type": "stream",
     "text": [
      "Number of unique semantics:  64\n"
     ]
    }
   ],
   "source": [
    "semantic_pc_file_path = '../../data/scene0000_00/associations/semantics/semantics_{}.las'.format(image_id)\n",
    "post_processing = PostProcessing(semantic_pc_file_path)\n",
    "post_processing.shuffle_semantic_ids()\n",
    "save_las_path = '../../data/scene0000_00/associations/semantics/semantics_{}_shuffled.las'.format(image_id)\n",
    "post_processing.save_semantic_pointcloud(save_las_path)"
   ]
  },
  {
   "cell_type": "code",
   "execution_count": 15,
   "metadata": {},
   "outputs": [],
   "source": [
    "from validation import *"
   ]
  },
  {
   "cell_type": "code",
   "execution_count": 16,
   "metadata": {},
   "outputs": [
    {
     "name": "stdout",
     "output_type": "stream",
     "text": [
      "Unique semantics in the ground truth:  68\n",
      "Using the last prediction file:  ../../data/scene0000_00/associations/semantics/semantics_613_shuffled.las\n",
      "Number of unique semantics in the prediction:  64\n",
      "Number of unique semantics in the ground truth:  68\n",
      "TP:  45  FP:  19  FN:  23\n",
      "TP:  43  FP:  21  FN:  25\n",
      "TP:  41  FP:  23  FN:  27\n",
      "TP:  38  FP:  26  FN:  30\n",
      "TP:  32  FP:  32  FN:  36\n",
      "TP:  28  FP:  36  FN:  40\n",
      "TP:  24  FP:  40  FN:  44\n",
      "TP:  19  FP:  45  FN:  49\n",
      "TP:  7  FP:  57  FN:  61\n",
      "TP:  1  FP:  63  FN:  67\n",
      "mAP list:  [0.703125, 0.671875, 0.640625, 0.59375, 0.5, 0.4375, 0.375, 0.296875, 0.109375, 0.015625]  mAR list:  [0.6617647058823529, 0.6323529411764706, 0.6029411764705882, 0.5588235294117647, 0.47058823529411764, 0.4117647058823529, 0.35294117647058826, 0.27941176470588236, 0.10294117647058823, 0.014705882352941176]\n",
      "mAP:  0.434375  mAR:  0.4088235294117647\n"
     ]
    }
   ],
   "source": [
    "scene_folder_path = '../../data/scene0000_00'\n",
    "validator = ScannetValidation(scene_folder_path)\n",
    "results = validator.validate(np.arange(0.5, 1.0, 0.05))\n",
    "#results = validator.validate([0.5, 0.6])\n",
    "mAP = results['AP']\n",
    "mAR = results['AR']\n",
    "print('mAP list: ', mAP, ' mAR list: ', mAR)\n",
    "mAP = np.sum(mAP) / len(mAP)\n",
    "mAR = np.sum(mAR) / len(mAR)\n",
    "print('mAP: ', mAP, ' mAR: ', mAR)\n",
    "    "
   ]
  },
  {
   "cell_type": "code",
   "execution_count": null,
   "metadata": {},
   "outputs": [],
   "source": []
  }
 ],
 "metadata": {
  "kernelspec": {
   "display_name": "Python 3",
   "language": "python",
   "name": "python3"
  },
  "language_info": {
   "codemirror_mode": {
    "name": "ipython",
    "version": 3
   },
   "file_extension": ".py",
   "mimetype": "text/x-python",
   "name": "python",
   "nbconvert_exporter": "python",
   "pygments_lexer": "ipython3",
   "version": "3.6.8"
  }
 },
 "nbformat": 4,
 "nbformat_minor": 2
}
