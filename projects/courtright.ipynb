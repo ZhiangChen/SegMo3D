{
 "cells": [
  {
   "cell_type": "markdown",
   "metadata": {},
   "source": [
    "# Courtright PBR Extraction\n",
    "\n",
    "Courtright Reservior: https://www.google.com/maps/place/Courtright+Reservoir/@37.1016292,-119.0217487,13z/data=!4m6!3m5!1s0x809596e61f5a4355:0xf1aa6387a6022d1e!8m2!3d37.1019078!4d-118.9732411!16zL20vMGQ3cjhn?entry=ttu "
   ]
  },
  {
   "cell_type": "markdown",
   "metadata": {},
   "source": [
    "## 1. Organize data\n",
    "Create a folder under `semantic_SfM/data` and organize your data following the structures below. \n",
    "\n",
    "Agisoft:\n",
    "```\n",
    "semantic_SfM/data\n",
    "    ├── courtright\n",
    "        ├── DJI_photos\n",
    "        │       ├── DJI_0000.JPG\n",
    "        │       ├── DJI_0001.JPG\n",
    "        │       ├── ...\n",
    "        │       └── DJI_0100.JPG\n",
    "        ├── SfM_products\n",
    "        │       ├── agisoft_cameras.xml\n",
    "        │       ├── model.jpg\n",
    "        │       ├── model.mtl\n",
    "        │       ├── model.obj\n",
    "        │       └── agisoft_model.las   \n",
    "        ├── segmentations\n",
    "        └── associations\n",
    "\n",
    "```"
   ]
  },
  {
   "cell_type": "markdown",
   "metadata": {},
   "source": [
    "## 2. Create 2D Segmentation using SAM"
   ]
  },
  {
   "cell_type": "code",
   "execution_count": 1,
   "metadata": {},
   "outputs": [],
   "source": [
    "from ssfm.image_segmentation import ImageSegmentation\n",
    "import os"
   ]
  },
  {
   "cell_type": "code",
   "execution_count": 4,
   "metadata": {},
   "outputs": [],
   "source": [
    "sam_params = {}\n",
    "sam_params['model_name'] = 'sam'\n",
    "sam_params['model_path'] = '../semantic_SfM/sam/sam_vit_h_4b8939.pth'\n",
    "sam_params['model_type'] = 'vit_h'\n",
    "sam_params['device'] = 'cuda:3'\n",
    "sam_params['points_per_side'] = 32\n",
    "sam_params['pred_iou_thresh'] = 0.96\n",
    "sam_params['stability_score_thresh'] = 0.96\n",
    "sam_params['crop_n_layers'] = 2"
   ]
  },
  {
   "cell_type": "code",
   "execution_count": 5,
   "metadata": {},
   "outputs": [
    {
     "name": "stdout",
     "output_type": "stream",
     "text": [
      "Processing image 1/1.\n"
     ]
    }
   ],
   "source": [
    "image_segmentor = ImageSegmentation(sam_params)   \n",
    "image_segmentor.set_distortion_correction('../data/courtright/SfM_products/agisoft_cameras.xml')\n",
    "image_folder_path = '../data/courtright/DJI_photos'\n",
    "segmentation_folder_path = '../data/courtright/segmentations'\n",
    "image_paths = [os.path.join(image_folder_path, f) for f in os.listdir(image_folder_path) if f.endswith('.JPG')]\n",
    "image_paths.sort()\n",
    "# keep the part of the images\n",
    "image_paths = image_paths[200:]\n",
    "image_segmentor.batch_predict(image_paths, segmentation_folder_path, maximum_size=10000, save_overlap=True)"
   ]
  },
  {
   "cell_type": "code",
   "execution_count": 1,
   "metadata": {},
   "outputs": [],
   "source": [
    "# simple segmentation filter\n",
    "from ssfm.mask_filter import SimpleMaskFilter"
   ]
  },
  {
   "cell_type": "code",
   "execution_count": 2,
   "metadata": {},
   "outputs": [
    {
     "name": "stderr",
     "output_type": "stream",
     "text": [
      "100%|██████████| 294/294 [15:44<00:00,  3.21s/it]\n"
     ]
    }
   ],
   "source": [
    "segmentation_folder_path = \"../data/courtright/segmentations\"\n",
    "\n",
    "configs = {\n",
    "    'window_size': 5,\n",
    "    'depth_folder': \"../data/courtright/associations/depth\",\n",
    "    'output_folder': \"../data/courtright/segmentations_filtered\",\n",
    "    'area_upper_threshold': 6,\n",
    "    'area_lower_threshold': 0.01,\n",
    "    'erosion_kernel_size': 5,\n",
    "    'erosion_iteration':1,\n",
    "    'camera_parameter_file': \"../data/courtright/SfM_products/agisoft_cameras.xml\",\n",
    "    'background_mask': True\n",
    "}\n",
    "\n",
    "\n",
    "mask_filter = SimpleMaskFilter(configs)\n",
    "\n",
    "#mask_filter.filter_segmentation_file('../../data/courtright/segmentations/DJI_0650.npy')\n",
    "mask_filter.filter_batch_processes(segmentation_folder_path, num_processes=16)"
   ]
  },
  {
   "cell_type": "markdown",
   "metadata": {},
   "source": [
    "## 3. Create projection associations"
   ]
  },
  {
   "cell_type": "code",
   "execution_count": 3,
   "metadata": {},
   "outputs": [],
   "source": [
    "from ssfm.probabilistic_projection import *\n",
    "import time"
   ]
  },
  {
   "cell_type": "code",
   "execution_count": 4,
   "metadata": {},
   "outputs": [],
   "source": [
    "pointcloud_projector = PointcloudProjection(depth_filtering_threshold=0.08)\n",
    "pointcloud_projector.read_camera_parameters('../data/courtright/SfM_products/agisoft_cameras.xml')\n",
    "pointcloud_projector.read_pointcloud('../data/courtright/SfM_products/agisoft_model.las')\n",
    "pointcloud_projector.read_mesh('../data/courtright/SfM_products/agisoft_model.obj')"
   ]
  },
  {
   "cell_type": "code",
   "execution_count": 5,
   "metadata": {},
   "outputs": [
    {
     "name": "stderr",
     "output_type": "stream",
     "text": [
      "Processing frames:  11%|█         | 32/294 [00:31<04:16,  1.02it/s]/home/zchen256/.local/lib/python3.6/site-packages/joblib/externals/loky/process_executor.py:705: UserWarning: A worker stopped while some jobs were given to the executor. This can be caused by a too short worker timeout or by a memory leak.\n",
      "  \"timeout or by a memory leak.\", UserWarning\n",
      "Processing frames: 100%|██████████| 294/294 [13:00<00:00,  2.66s/it]\n"
     ]
    }
   ],
   "source": [
    "# batch project\n",
    "image_folder_path = '../data/courtright/DJI_photos'\n",
    "save_folder_path = '../data/courtright/associations'\n",
    "\n",
    "image_list = [f for f in os.listdir(image_folder_path) if f.endswith('.JPG')]\n",
    "#pointcloud_projector.parallel_batch_project(image_list, save_folder_path)\n",
    "pointcloud_projector.parallel_batch_project_joblib(image_list, save_folder_path, num_workers=16, save_depth=True)"
   ]
  },
  {
   "cell_type": "code",
   "execution_count": 8,
   "metadata": {},
   "outputs": [],
   "source": [
    "# build keyimage associations\n",
    "from ssfm.keyimage_associations_builder import *"
   ]
  },
  {
   "cell_type": "code",
   "execution_count": 9,
   "metadata": {},
   "outputs": [
    {
     "name": "stderr",
     "output_type": "stream",
     "text": [
      "100%|██████████| 294/294 [01:45<00:00,  2.78it/s]\n"
     ]
    }
   ],
   "source": [
    "smc_solver = KeyimageAssociationsBuilder('../data/courtright/associations', '../data/courtright/segmentations_filtered')\n",
    "smc_solver.build_associations()"
   ]
  },
  {
   "cell_type": "code",
   "execution_count": 9,
   "metadata": {},
   "outputs": [
    {
     "name": "stdout",
     "output_type": "stream",
     "text": [
      "| Metric                                                       | Count      | Percentage           |\n",
      "----------------------------------------------------------------------------------------------------\n",
      "| Number of points not covered by any image                    | 37250341   | 44.94                |\n",
      "| Number of points covered by less than or equal to 1 image    | 48947394   | 59.05                |\n",
      "| Number of points covered by less than or equal to 3 images   | 59865729   | 72.22                |\n",
      "| Number of points covered by less than or equal to 5 images   | 65670931   | 79.23                |\n"
     ]
    }
   ],
   "source": [
    "smc_solver.find_min_cover()"
   ]
  },
  {
   "cell_type": "code",
   "execution_count": 8,
   "metadata": {},
   "outputs": [
    {
     "name": "stderr",
     "output_type": "stream",
     "text": [
      "100%|██████████| 294/294 [05:04<00:00,  1.04s/it]\n"
     ]
    }
   ],
   "source": [
    "# refine keyimage associations (optional)\n",
    "smc_solver.refine(0.5)  # keep 0.5 of the original keyimage associations"
   ]
  },
  {
   "cell_type": "markdown",
   "metadata": {},
   "source": [
    "## 4. Estimate memory usage"
   ]
  },
  {
   "cell_type": "code",
   "execution_count": 10,
   "metadata": {},
   "outputs": [],
   "source": [
    "from ssfm.memory_calculator import memory_calculator"
   ]
  },
  {
   "cell_type": "code",
   "execution_count": 11,
   "metadata": {},
   "outputs": [
    {
     "name": "stdout",
     "output_type": "stream",
     "text": [
      "+----------------------------------------+----------------------+\n",
      "|              Memory Type               | Memory Required (GB) |\n",
      "+----------------------------------------+----------------------+\n",
      "|      Segmentation for each image       | 0.037181854248046875 |\n",
      "| Pixel2point association for each image | 0.07436370849609375  |\n",
      "| Point2pixel association for each image | 0.21190671995282173  |\n",
      "|                                        |                      |\n",
      "|      Segmentation for all images       |  10.931465148925781  |\n",
      "| Pixel2point association for all images |  21.862930297851562  |\n",
      "| Point2pixel association for all images |  62.30057566612959   |\n",
      "|          pc_segmentation_ids           |  1.0595335997641087  |\n",
      "|         pc_segmentation_probs          |  1.0595335997641087  |\n",
      "|          keyimage_association          |  15.575143916532397  |\n",
      "|                 Total                  |  112.78918222896755  |\n",
      "+----------------------------------------+----------------------+\n"
     ]
    }
   ],
   "source": [
    "# pointcloud file\n",
    "las_file = \"../data/courtright/SfM_products/agisoft_model.las\"\n",
    "# image file sample\n",
    "image_file = \"../data/courtright/DJI_photos/DJI_0576.JPG\"\n",
    "# number of images\n",
    "num_images = 294\n",
    "# number of segmentation ids for each point in the point cloud\n",
    "num_segmentation_ids = 5\n",
    "\n",
    "memory_calculator(las_file, image_file, num_images, num_segmentation_ids)"
   ]
  },
  {
   "cell_type": "markdown",
   "metadata": {},
   "source": [
    "## 5. Run object registration"
   ]
  },
  {
   "cell_type": "code",
   "execution_count": 12,
   "metadata": {},
   "outputs": [],
   "source": [
    "from ssfm.object_registration import *"
   ]
  },
  {
   "cell_type": "code",
   "execution_count": null,
   "metadata": {},
   "outputs": [],
   "source": [
    "# Set paths\n",
    "pointcloud_path = '../data/courtright/SfM_products/agisoft_model.las'\n",
    "segmentation_folder_path = '../data/courtright/segmentations_filtered'\n",
    "image_folder_path = '../data/courtright/DJI_photos'\n",
    "association_folder_path = '../data/courtright/associations'\n",
    "\n",
    "keyimage_associations_file_name = 'refined_associations_keyimage.npy'\n",
    "keyimage_yaml_name = 'refined_keyimages.yaml'"
   ]
  },
  {
   "cell_type": "code",
   "execution_count": null,
   "metadata": {},
   "outputs": [],
   "source": [
    "# Create object registration\n",
    "obr = ObjectRegistration(pointcloud_path, segmentation_folder_path, association_folder_path)\n",
    "\n",
    "# use the refined keyimage associations\n",
    "#obr = ObjectRegistration(pointcloud_path, segmentation_folder_path, association_folder_path, keyimage_associations_file_name=keyimage_associations_file_name, keyimage_yaml_name=keyimage_yaml_name)\n",
    "\n",
    "# Run object registration\n",
    "#obr.object_registration(iou_threshold=0.5, save_semantics=True)\n",
    "obr.object_registration(iou_threshold=0.5)\n",
    "\n",
    "# save semantic point cloud\n",
    "obr.save_semantic_pointcloud('../data/courtright/semantic_model.las')\n"
   ]
  },
  {
   "cell_type": "code",
   "execution_count": 8,
   "metadata": {},
   "outputs": [
    {
     "name": "stdout",
     "output_type": "stream",
     "text": [
      "maximum of semantics:  73\n",
      "number of unique semantics:  56\n"
     ]
    }
   ],
   "source": [
    "add_semantics_to_pointcloud_flag = True\n",
    "if add_semantics_to_pointcloud_flag:\n",
    "    image_id = 293\n",
    "    semantics_folder_path = os.path.join(association_folder_path, 'semantics', 'semantics_{}.npy'.format(image_id))\n",
    "    save_las_path = os.path.join(association_folder_path, 'semantics', 'semantics_{}.las'.format(image_id))\n",
    "    add_semantics_to_pointcloud(pointcloud_path, semantics_folder_path, save_las_path) \n",
    "\n",
    "\n",
    "add_semantics_to_pointcloud_flag = True\n",
    "if add_semantics_to_pointcloud_flag:\n",
    "    image_id = 293\n",
    "    semantics_folder_path = os.path.join(association_folder_path, 'semantics', 'semantics_{}.npy'.format(image_id))\n",
    "    save_las_path = os.path.join(association_folder_path, 'semantics', 'semantics_{}_updated.las'.format(image_id))\n",
    "    add_semantics_to_pointcloud(pointcloud_path, semantics_folder_path, save_las_path) "
   ]
  },
  {
   "cell_type": "code",
   "execution_count": 7,
   "metadata": {},
   "outputs": [],
   "source": [
    "from ssfm.post_processing import PostProcessing"
   ]
  },
  {
   "cell_type": "code",
   "execution_count": 5,
   "metadata": {},
   "outputs": [
    {
     "name": "stdout",
     "output_type": "stream",
     "text": [
      "Number of unique semantics:  869\n"
     ]
    }
   ],
   "source": [
    "semantic_pc_file_path = '../data/courtright/associations/semantics/semantics_293.las'\n",
    "post_processing = PostProcessing(semantic_pc_file_path)\n",
    "post_processing.shuffle_semantic_ids()\n",
    "save_las_path = '../data/courtright/associations/semantics/semantics_293_shuffled.las'\n",
    "post_processing.save_semantic_pointcloud(save_las_path)\n",
    "\n",
    "\n",
    "semantic_pc_file_path = '../data/courtright/associations/semantics/semantics_293_updated.las'\n",
    "post_processing = PostProcessing(semantic_pc_file_path)\n",
    "post_processing.shuffle_semantic_ids()\n",
    "save_las_path = '../data/courtright/associations/semantics/semantics_293_shuffled_updated.las'\n",
    "post_processing.save_semantic_pointcloud(save_las_path)"
   ]
  }
 ],
 "metadata": {
  "kernelspec": {
   "display_name": "Python 3",
   "language": "python",
   "name": "python3"
  },
  "language_info": {
   "codemirror_mode": {
    "name": "ipython",
    "version": 3
   },
   "file_extension": ".py",
   "mimetype": "text/x-python",
   "name": "python",
   "nbconvert_exporter": "python",
   "pygments_lexer": "ipython3",
   "version": "3.6.8"
  }
 },
 "nbformat": 4,
 "nbformat_minor": 2
}
